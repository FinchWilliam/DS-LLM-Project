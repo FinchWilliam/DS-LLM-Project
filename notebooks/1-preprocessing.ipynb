{
 "cells": [
  {
   "cell_type": "markdown",
   "metadata": {},
   "source": [
    "## Loading and Pre-processing our data"
   ]
  },
  {
   "cell_type": "code",
   "execution_count": 2,
   "metadata": {},
   "outputs": [
    {
     "name": "stderr",
     "output_type": "stream",
     "text": [
      "[nltk_data] Downloading package punkt to\n",
      "[nltk_data]     C:\\Users\\finch\\AppData\\Roaming\\nltk_data...\n",
      "[nltk_data]   Package punkt is already up-to-date!\n",
      "[nltk_data] Downloading package wordnet to\n",
      "[nltk_data]     C:\\Users\\finch\\AppData\\Roaming\\nltk_data...\n",
      "[nltk_data]   Package wordnet is already up-to-date!\n"
     ]
    }
   ],
   "source": [
    "from datasets import load_dataset, Dataset, DatasetDict\n",
    "import pandas as pd \n",
    "import pprint as pp\n",
    "import homemade_functions as hf\n",
    "\n"
   ]
  },
  {
   "cell_type": "markdown",
   "metadata": {},
   "source": [
    "### Load in our Yelp Reviews dataset"
   ]
  },
  {
   "cell_type": "code",
   "execution_count": 3,
   "metadata": {},
   "outputs": [],
   "source": [
    "ds = load_dataset('yelp_review_full')"
   ]
  },
  {
   "cell_type": "code",
   "execution_count": 4,
   "metadata": {},
   "outputs": [
    {
     "name": "stdout",
     "output_type": "stream",
     "text": [
      "{'test': Dataset({\n",
      "    features: ['label', 'text'],\n",
      "    num_rows: 50000\n",
      "}),\n",
      " 'train': Dataset({\n",
      "    features: ['label', 'text'],\n",
      "    num_rows: 650000\n",
      "})}\n"
     ]
    }
   ],
   "source": [
    "pp.pprint(ds)"
   ]
  },
  {
   "cell_type": "code",
   "execution_count": 5,
   "metadata": {},
   "outputs": [
    {
     "name": "stdout",
     "output_type": "stream",
     "text": [
      "Dataset({\n",
      "    features: ['label', 'text'],\n",
      "    num_rows: 50000\n",
      "})\n"
     ]
    }
   ],
   "source": [
    "pp.pprint(ds['test'])"
   ]
  },
  {
   "cell_type": "code",
   "execution_count": 5,
   "metadata": {},
   "outputs": [
    {
     "name": "stdout",
     "output_type": "stream",
     "text": [
      "[0, 0, 0, 0, 0]\n"
     ]
    }
   ],
   "source": [
    "pp.pprint(ds['test']['label'][:5])"
   ]
  },
  {
   "cell_type": "code",
   "execution_count": 13,
   "metadata": {},
   "outputs": [
    {
     "name": "stdout",
     "output_type": "stream",
     "text": [
      "[\"I got 'new' tires from them and within two weeks got a flat. I took my car \"\n",
      " 'to a local mechanic to see if i could get the hole patched, but they said '\n",
      " 'the reason I had a flat was because the previous patch had blown - WAIT, '\n",
      " 'WHAT? I just got the tire and never needed to have it patched? This was '\n",
      " \"supposed to be a new tire. \\\\nI took the tire over to Flynn's and they told \"\n",
      " 'me that someone punctured my tire, then tried to patch it. So there are '\n",
      " 'resentful tire slashers? I find that very unlikely. After arguing with the '\n",
      " \"guy and telling him that his logic was far fetched he said he'd give me a \"\n",
      " 'new tire \\\\\"this time\\\\\". \\\\nI will never go back to Flynn\\'s b/c of the way '\n",
      " 'this guy treated me and the simple fact that they gave me a used tire!',\n",
      " \"Don't waste your time.  We had two different people come to our house to \"\n",
      " 'give us estimates for a deck (one of them the OWNER).  Both times, we never '\n",
      " 'heard from them.  Not a call, not the estimate, nothing.']\n"
     ]
    }
   ],
   "source": [
    "pp.pprint(ds['test']['text'][:2])"
   ]
  },
  {
   "cell_type": "code",
   "execution_count": 11,
   "metadata": {},
   "outputs": [
    {
     "data": {
      "application/vnd.microsoft.datawrangler.viewer.v0+json": {
       "columns": [
        {
         "name": "index",
         "rawType": "int64",
         "type": "integer"
        },
        {
         "name": "label",
         "rawType": "int64",
         "type": "integer"
        },
        {
         "name": "text",
         "rawType": "object",
         "type": "string"
        }
       ],
       "conversionMethod": "pd.DataFrame",
       "ref": "68038e9a-94c7-4c3f-a511-6fbffe8f3371",
       "rows": [
        [
         "0",
         "4",
         "dr. goldberg offers everything i look for in a general practitioner.  he's nice and easy to talk to without being patronizing; he's always on time in seeing his patients; he's affiliated with a top-notch hospital (nyu) which my parents have explained to me is very important in case something happens and you need surgery; and you can get referrals to see specialists without having to see him first.  really, what more do you need?  i'm sitting here trying to think of any complaints i have about him, but i'm really drawing a blank."
        ],
        [
         "1",
         "1",
         "Unfortunately, the frustration of being Dr. Goldberg's patient is a repeat of the experience I've had with so many other doctors in NYC -- good doctor, terrible staff.  It seems that his staff simply never answers the phone.  It usually takes 2 hours of repeated calling to get an answer.  Who has time for that or wants to deal with it?  I have run into this problem with many other doctors and I just don't get it.  You have office workers, you have patients with medical needs, why isn't anyone answering the phone?  It's incomprehensible and not work the aggravation.  It's with regret that I feel that I have to give Dr. Goldberg 2 stars."
        ],
        [
         "2",
         "3",
         "Been going to Dr. Goldberg for over 10 years. I think I was one of his 1st patients when he started at MHMG. He's been great over the years and is really all about the big picture. It is because of him, not my now former gyn Dr. Markoff, that I found out I have fibroids. He explores all options with you and is very patient and understanding. He doesn't judge and asks all the right questions. Very thorough and wants to be kept in the loop on every aspect of your medical health and your life."
        ],
        [
         "3",
         "3",
         "Got a letter in the mail last week that said Dr. Goldberg is moving to Arizona to take a new position there in June.  He will be missed very much.  \\n\\nI think finding a new doctor in NYC that you actually like might almost be as awful as trying to find a date!"
        ],
        [
         "4",
         "0",
         "I don't know what Dr. Goldberg was like before  moving to Arizona, but let me tell you, STAY AWAY from this doctor and this office. I was going to Dr. Johnson before he left and Goldberg took over when Johnson left. He is not a caring doctor. He is only interested in the co-pay and having you come in for medication refills every month. He will not give refills and could less about patients's financial situations. Trying to get your 90 days mail away pharmacy prescriptions through this guy is a joke. And to make matters even worse, his office staff is incompetent. 90% of the time when you call the office, they'll put you through to a voice mail, that NO ONE ever answers or returns your call. Both my adult children and husband have decided to leave this practice after experiencing such frustration. The entire office has an attitude like they are doing you a favor. Give me a break! Stay away from this doc and the practice. You deserve better and they will not be there when you really need them. I have never felt compelled to write a bad review about anyone until I met this pathetic excuse for a doctor who is all about the money."
        ]
       ],
       "shape": {
        "columns": 2,
        "rows": 5
       }
      },
      "text/html": [
       "<div>\n",
       "<style scoped>\n",
       "    .dataframe tbody tr th:only-of-type {\n",
       "        vertical-align: middle;\n",
       "    }\n",
       "\n",
       "    .dataframe tbody tr th {\n",
       "        vertical-align: top;\n",
       "    }\n",
       "\n",
       "    .dataframe thead th {\n",
       "        text-align: right;\n",
       "    }\n",
       "</style>\n",
       "<table border=\"1\" class=\"dataframe\">\n",
       "  <thead>\n",
       "    <tr style=\"text-align: right;\">\n",
       "      <th></th>\n",
       "      <th>label</th>\n",
       "      <th>text</th>\n",
       "    </tr>\n",
       "  </thead>\n",
       "  <tbody>\n",
       "    <tr>\n",
       "      <th>0</th>\n",
       "      <td>4</td>\n",
       "      <td>dr. goldberg offers everything i look for in a...</td>\n",
       "    </tr>\n",
       "    <tr>\n",
       "      <th>1</th>\n",
       "      <td>1</td>\n",
       "      <td>Unfortunately, the frustration of being Dr. Go...</td>\n",
       "    </tr>\n",
       "    <tr>\n",
       "      <th>2</th>\n",
       "      <td>3</td>\n",
       "      <td>Been going to Dr. Goldberg for over 10 years. ...</td>\n",
       "    </tr>\n",
       "    <tr>\n",
       "      <th>3</th>\n",
       "      <td>3</td>\n",
       "      <td>Got a letter in the mail last week that said D...</td>\n",
       "    </tr>\n",
       "    <tr>\n",
       "      <th>4</th>\n",
       "      <td>0</td>\n",
       "      <td>I don't know what Dr. Goldberg was like before...</td>\n",
       "    </tr>\n",
       "  </tbody>\n",
       "</table>\n",
       "</div>"
      ],
      "text/plain": [
       "   label                                               text\n",
       "0      4  dr. goldberg offers everything i look for in a...\n",
       "1      1  Unfortunately, the frustration of being Dr. Go...\n",
       "2      3  Been going to Dr. Goldberg for over 10 years. ...\n",
       "3      3  Got a letter in the mail last week that said D...\n",
       "4      0  I don't know what Dr. Goldberg was like before..."
      ]
     },
     "execution_count": 11,
     "metadata": {},
     "output_type": "execute_result"
    }
   ],
   "source": [
    "train_df = pd.DataFrame(ds['train'])\n",
    "test_df = pd.DataFrame(ds['test'])\n",
    "train_df.head()"
   ]
  },
  {
   "cell_type": "markdown",
   "metadata": {},
   "source": [
    "### Lets Pre-process our data\n",
    " - Clean \n",
    "    - Remove all puntuation, and make everything the same case\n",
    " - Lemmatize\n",
    "    - Use WordNetLemmatizer to reduce words to there base form\n",
    " - Stem\n",
    "    - Use PorterStemmer to remove word endings to ensure they are similar\n",
    "\n",
    "\n",
    "we will keep all three as seperate datasets"
   ]
  },
  {
   "cell_type": "markdown",
   "metadata": {},
   "source": [
    "#### First thing we need to do is adjust our label column from 0-4 into a 0-2 rating system (negative, neutral, positive)"
   ]
  },
  {
   "cell_type": "code",
   "execution_count": 12,
   "metadata": {},
   "outputs": [
    {
     "name": "stdout",
     "output_type": "stream",
     "text": [
      "Minimum = 0 \n",
      "Maximum = 2\n"
     ]
    }
   ],
   "source": [
    "label_map = {\n",
    "    0:0,\n",
    "    1:0,\n",
    "    2:1,\n",
    "    3:2,\n",
    "    4:2\n",
    "}\n",
    "test_df['label'] = test_df['label'].replace(label_map)\n",
    "train_df['label'] = train_df['label'].replace(label_map)\n",
    "print(f\"Minimum = {min(test_df['label'])} \\nMaximum = {max(test_df['label'])}\")"
   ]
  },
  {
   "cell_type": "code",
   "execution_count": 13,
   "metadata": {},
   "outputs": [
    {
     "name": "stdout",
     "output_type": "stream",
     "text": [
      "cleaned\n",
      "stemmed\n",
      "lemmad\n"
     ]
    },
    {
     "data": {
      "application/vnd.microsoft.datawrangler.viewer.v0+json": {
       "columns": [
        {
         "name": "index",
         "rawType": "int64",
         "type": "integer"
        },
        {
         "name": "label",
         "rawType": "int64",
         "type": "integer"
        },
        {
         "name": "text",
         "rawType": "object",
         "type": "string"
        },
        {
         "name": "cleaned",
         "rawType": "object",
         "type": "unknown"
        },
        {
         "name": "stemmed_cleaned",
         "rawType": "object",
         "type": "unknown"
        },
        {
         "name": "lemma_cleaned",
         "rawType": "object",
         "type": "unknown"
        }
       ],
       "conversionMethod": "pd.DataFrame",
       "ref": "ab61ec7a-97f6-4ce8-a366-37d60ee08df7",
       "rows": [
        [
         "0",
         "0",
         "I got 'new' tires from them and within two weeks got a flat. I took my car to a local mechanic to see if i could get the hole patched, but they said the reason I had a flat was because the previous patch had blown - WAIT, WHAT? I just got the tire and never needed to have it patched? This was supposed to be a new tire. \\nI took the tire over to Flynn's and they told me that someone punctured my tire, then tried to patch it. So there are resentful tire slashers? I find that very unlikely. After arguing with the guy and telling him that his logic was far fetched he said he'd give me a new tire \\\"this time\\\". \\nI will never go back to Flynn's b/c of the way this guy treated me and the simple fact that they gave me a used tire!",
         "['got', 'new', 'tires', 'within', 'two', 'weeks', 'got', 'flat', 'took', 'car', 'local', 'mechanic', 'see', 'could', 'get', 'hole', 'patched', 'said', 'reason', 'flat', 'previous', 'patch', 'blown', 'wait', 'got', 'tire', 'never', 'needed', 'patched', 'supposed', 'new', 'tire', 'ni', 'took', 'tire', 'flynns', 'told', 'someone', 'punctured', 'tire', 'tried', 'patch', 'resentful', 'tire', 'slashers', 'find', 'unlikely', 'arguing', 'guy', 'telling', 'logic', 'far', 'fetched', 'said', 'hed', 'give', 'new', 'tire', 'time', 'ni', 'never', 'go', 'back', 'flynns', 'bc', 'way', 'guy', 'treated', 'simple', 'fact', 'gave', 'used', 'tire']",
         "['got', 'new', 'tire', 'within', 'two', 'week', 'got', 'flat', 'took', 'car', 'local', 'mechan', 'see', 'could', 'get', 'hole', 'patch', 'said', 'reason', 'flat', 'previou', 'patch', 'blown', 'wait', 'got', 'tire', 'never', 'need', 'patch', 'suppos', 'new', 'tire', 'ni', 'took', 'tire', 'flynn', 'told', 'someon', 'punctur', 'tire', 'tri', 'patch', 'resent', 'tire', 'slasher', 'find', 'unlik', 'argu', 'guy', 'tell', 'logic', 'far', 'fetch', 'said', 'hed', 'give', 'new', 'tire', 'time', 'ni', 'never', 'go', 'back', 'flynn', 'bc', 'way', 'guy', 'treat', 'simpl', 'fact', 'gave', 'use', 'tire']",
         "['got', 'new', 'tire', 'within', 'two', 'week', 'got', 'flat', 'took', 'car', 'local', 'mechanic', 'see', 'could', 'get', 'hole', 'patched', 'said', 'reason', 'flat', 'previous', 'patch', 'blown', 'wait', 'got', 'tire', 'never', 'needed', 'patched', 'supposed', 'new', 'tire', 'ni', 'took', 'tire', 'flynns', 'told', 'someone', 'punctured', 'tire', 'tried', 'patch', 'resentful', 'tire', 'slasher', 'find', 'unlikely', 'arguing', 'guy', 'telling', 'logic', 'far', 'fetched', 'said', 'hed', 'give', 'new', 'tire', 'time', 'ni', 'never', 'go', 'back', 'flynns', 'bc', 'way', 'guy', 'treated', 'simple', 'fact', 'gave', 'used', 'tire']"
        ],
        [
         "1",
         "0",
         "Don't waste your time.  We had two different people come to our house to give us estimates for a deck (one of them the OWNER).  Both times, we never heard from them.  Not a call, not the estimate, nothing.",
         "['dont', 'waste', 'time', 'two', 'different', 'people', 'come', 'house', 'give', 'us', 'estimates', 'deck', 'one', 'owner', 'times', 'never', 'heard', 'call', 'estimate', 'nothing']",
         "['dont', 'wast', 'time', 'two', 'differ', 'peopl', 'come', 'hous', 'give', 'us', 'estim', 'deck', 'one', 'owner', 'time', 'never', 'heard', 'call', 'estim', 'noth']",
         "['dont', 'waste', 'time', 'two', 'different', 'people', 'come', 'house', 'give', 'u', 'estimate', 'deck', 'one', 'owner', 'time', 'never', 'heard', 'call', 'estimate', 'nothing']"
        ],
        [
         "2",
         "0",
         "All I can say is the worst! We were the only 2 people in the place for lunch, the place was freezing and loaded with kids toys! 2 bicycles, a scooter, and an electronic keyboard graced the dining room. A fish tank with filthy, slimy fingerprints smeared all over it is there for your enjoyment.\\n\\nOur food came... no water to drink, no tea, medium temperature food. Of course its cold, just like the room, I never took my jacket off! The plates are too small, you food spills over onto some semi-clean tables as you sit in your completely worn out booth seat. The fried noodles were out of a box and nasty, the shrimp was mushy, the fried rice was bright yellow.\\n\\nWe asked for water, they brought us 1 in a SOLO cup for 2 people. I asked for hot tea, they said 10 minutes. What Chinese restaurant does not have hot tea available upon request?\\n\\nOver all.... my first and last visit to this place. The only good point was that it was cheap, and deservingly so.",
         "['say', 'worst', '2', 'people', 'place', 'lunch', 'place', 'freezing', 'loaded', 'kids', 'toys', '2', 'bicycles', 'scooter', 'electronic', 'keyboard', 'graced', 'dining', 'room', 'fish', 'tank', 'filthy', 'slimy', 'fingerprints', 'smeared', 'enjoymentnnour', 'food', 'came', 'water', 'drink', 'tea', 'medium', 'temperature', 'food', 'course', 'cold', 'like', 'room', 'never', 'took', 'jacket', 'plates', 'small', 'food', 'spills', 'onto', 'semiclean', 'tables', 'sit', 'completely', 'worn', 'booth', 'seat', 'fried', 'noodles', 'box', 'nasty', 'shrimp', 'mushy', 'fried', 'rice', 'bright', 'yellownnwe', 'asked', 'water', 'brought', 'us', '1', 'solo', 'cup', '2', 'people', 'asked', 'hot', 'tea', 'said', '10', 'minutes', 'chinese', 'restaurant', 'hot', 'tea', 'available', 'upon', 'requestnnover', 'first', 'last', 'visit', 'place', 'good', 'point', 'cheap', 'deservingly']",
         "['say', 'worst', '2', 'peopl', 'place', 'lunch', 'place', 'freez', 'load', 'kid', 'toy', '2', 'bicycl', 'scooter', 'electron', 'keyboard', 'grace', 'dine', 'room', 'fish', 'tank', 'filthi', 'slimi', 'fingerprint', 'smear', 'enjoymentnnour', 'food', 'came', 'water', 'drink', 'tea', 'medium', 'temperatur', 'food', 'cours', 'cold', 'like', 'room', 'never', 'took', 'jacket', 'plate', 'small', 'food', 'spill', 'onto', 'semiclean', 'tabl', 'sit', 'complet', 'worn', 'booth', 'seat', 'fri', 'noodl', 'box', 'nasti', 'shrimp', 'mushi', 'fri', 'rice', 'bright', 'yellownnw', 'ask', 'water', 'brought', 'us', '1', 'solo', 'cup', '2', 'peopl', 'ask', 'hot', 'tea', 'said', '10', 'minut', 'chines', 'restaur', 'hot', 'tea', 'avail', 'upon', 'requestnnov', 'first', 'last', 'visit', 'place', 'good', 'point', 'cheap', 'deservingli']",
         "['say', 'worst', '2', 'people', 'place', 'lunch', 'place', 'freezing', 'loaded', 'kid', 'toy', '2', 'bicycle', 'scooter', 'electronic', 'keyboard', 'graced', 'dining', 'room', 'fish', 'tank', 'filthy', 'slimy', 'fingerprint', 'smeared', 'enjoymentnnour', 'food', 'came', 'water', 'drink', 'tea', 'medium', 'temperature', 'food', 'course', 'cold', 'like', 'room', 'never', 'took', 'jacket', 'plate', 'small', 'food', 'spill', 'onto', 'semiclean', 'table', 'sit', 'completely', 'worn', 'booth', 'seat', 'fried', 'noodle', 'box', 'nasty', 'shrimp', 'mushy', 'fried', 'rice', 'bright', 'yellownnwe', 'asked', 'water', 'brought', 'u', '1', 'solo', 'cup', '2', 'people', 'asked', 'hot', 'tea', 'said', '10', 'minute', 'chinese', 'restaurant', 'hot', 'tea', 'available', 'upon', 'requestnnover', 'first', 'last', 'visit', 'place', 'good', 'point', 'cheap', 'deservingly']"
        ],
        [
         "3",
         "0",
         "I have been to this restaurant twice and was disappointed both times. I won't go back. The first time we were there almost 3 hours. It took forever to order and then forever for our food to come and the place was empty. When I complained the manager was very rude and tried to blame us for taking to long to order. It made no sense, how could we order when the waitress wasn't coming to the table? After arguing with me he ended up taking $6 off of our $200+ bill. Ridiculous. If it were up to me I would have never returned. Unfortunately my family decided to go here again tonight. Again it took a long time to get our food. My food was cold and bland, my kids food was cold. My husbands salmon was burnt to a crisp and my sister in law took one bite of her trout and refused to eat any more because she claims it was so disgusting. The wedding soup and bread were good, but that's it! My drink sat empty throughout my meal and never got refilled even when I asked. Bad food, slow service and rude managers. I'll pass on this place if my family decides to go again. Not worth it at all with all the other good Italian options around.",
         "['restaurant', 'twice', 'disappointed', 'times', 'wont', 'go', 'back', 'first', 'time', 'almost', '3', 'hours', 'took', 'forever', 'order', 'forever', 'food', 'come', 'place', 'empty', 'complained', 'manager', 'rude', 'tried', 'blame', 'us', 'taking', 'long', 'order', 'made', 'sense', 'could', 'order', 'waitress', 'wasnt', 'coming', 'table', 'arguing', 'ended', 'taking', '6', '200', 'bill', 'ridiculous', 'would', 'never', 'returned', 'unfortunately', 'family', 'decided', 'go', 'tonight', 'took', 'long', 'time', 'get', 'food', 'food', 'cold', 'bland', 'kids', 'food', 'cold', 'husbands', 'salmon', 'burnt', 'crisp', 'sister', 'law', 'took', 'one', 'bite', 'trout', 'refused', 'eat', 'claims', 'disgusting', 'wedding', 'soup', 'bread', 'good', 'thats', 'drink', 'sat', 'empty', 'throughout', 'meal', 'never', 'got', 'refilled', 'even', 'asked', 'bad', 'food', 'slow', 'service', 'rude', 'managers', 'ill', 'pass', 'place', 'family', 'decides', 'go', 'worth', 'good', 'italian', 'options', 'around']",
         "['restaur', 'twice', 'disappoint', 'time', 'wont', 'go', 'back', 'first', 'time', 'almost', '3', 'hour', 'took', 'forev', 'order', 'forev', 'food', 'come', 'place', 'empti', 'complain', 'manag', 'rude', 'tri', 'blame', 'us', 'take', 'long', 'order', 'made', 'sens', 'could', 'order', 'waitress', 'wasnt', 'come', 'tabl', 'argu', 'end', 'take', '6', '200', 'bill', 'ridicul', 'would', 'never', 'return', 'unfortun', 'famili', 'decid', 'go', 'tonight', 'took', 'long', 'time', 'get', 'food', 'food', 'cold', 'bland', 'kid', 'food', 'cold', 'husband', 'salmon', 'burnt', 'crisp', 'sister', 'law', 'took', 'one', 'bite', 'trout', 'refus', 'eat', 'claim', 'disgust', 'wed', 'soup', 'bread', 'good', 'that', 'drink', 'sat', 'empti', 'throughout', 'meal', 'never', 'got', 'refil', 'even', 'ask', 'bad', 'food', 'slow', 'servic', 'rude', 'manag', 'ill', 'pass', 'place', 'famili', 'decid', 'go', 'worth', 'good', 'italian', 'option', 'around']",
         "['restaurant', 'twice', 'disappointed', 'time', 'wont', 'go', 'back', 'first', 'time', 'almost', '3', 'hour', 'took', 'forever', 'order', 'forever', 'food', 'come', 'place', 'empty', 'complained', 'manager', 'rude', 'tried', 'blame', 'u', 'taking', 'long', 'order', 'made', 'sense', 'could', 'order', 'waitress', 'wasnt', 'coming', 'table', 'arguing', 'ended', 'taking', '6', '200', 'bill', 'ridiculous', 'would', 'never', 'returned', 'unfortunately', 'family', 'decided', 'go', 'tonight', 'took', 'long', 'time', 'get', 'food', 'food', 'cold', 'bland', 'kid', 'food', 'cold', 'husband', 'salmon', 'burnt', 'crisp', 'sister', 'law', 'took', 'one', 'bite', 'trout', 'refused', 'eat', 'claim', 'disgusting', 'wedding', 'soup', 'bread', 'good', 'thats', 'drink', 'sat', 'empty', 'throughout', 'meal', 'never', 'got', 'refilled', 'even', 'asked', 'bad', 'food', 'slow', 'service', 'rude', 'manager', 'ill', 'pas', 'place', 'family', 'decides', 'go', 'worth', 'good', 'italian', 'option', 'around']"
        ],
        [
         "4",
         "0",
         "Food was NOT GOOD at all! My husband & I ate here a couple weeks ago for the first time. I ordered a salad & basil pesto cream pasta & my husband ordered the spinach & feta pasta. The salad was just a huge plate of spring mix (nothing else in it) with WAY to much vinegar dressing. My lettuce was drowning in the vinegar. My pesto pasta had no flavor (did not taste like a cream sauce to me) & the pesto was so runny/watery & way too much sauce not enough noodles. My husband's pasta had even less flavor than mine. We ate about a quarter of the food & couldn't even finish it. We took it home & it was so bad I didn't even eat my leftovers. And I hate wasting food!! Plus the prices are expensive for the amount of food you get & of course the poor quality. Don't waste your time eating here. There are much better Italian restaurants in Pittsburgh.",
         "['food', 'good', 'husband', 'ate', 'couple', 'weeks', 'ago', 'first', 'time', 'ordered', 'salad', 'basil', 'pesto', 'cream', 'pasta', 'husband', 'ordered', 'spinach', 'feta', 'pasta', 'salad', 'huge', 'plate', 'spring', 'mix', 'nothing', 'else', 'way', 'much', 'vinegar', 'dressing', 'lettuce', 'drowning', 'vinegar', 'pesto', 'pasta', 'flavor', 'taste', 'like', 'cream', 'sauce', 'pesto', 'runnywatery', 'way', 'much', 'sauce', 'enough', 'noodles', 'husbands', 'pasta', 'even', 'less', 'flavor', 'mine', 'ate', 'quarter', 'food', 'couldnt', 'even', 'finish', 'took', 'home', 'bad', 'didnt', 'even', 'eat', 'leftovers', 'hate', 'wasting', 'food', 'plus', 'prices', 'expensive', 'amount', 'food', 'get', 'course', 'poor', 'quality', 'dont', 'waste', 'time', 'eating', 'much', 'better', 'italian', 'restaurants', 'pittsburgh']",
         "['food', 'good', 'husband', 'ate', 'coupl', 'week', 'ago', 'first', 'time', 'order', 'salad', 'basil', 'pesto', 'cream', 'pasta', 'husband', 'order', 'spinach', 'feta', 'pasta', 'salad', 'huge', 'plate', 'spring', 'mix', 'noth', 'els', 'way', 'much', 'vinegar', 'dress', 'lettuc', 'drown', 'vinegar', 'pesto', 'pasta', 'flavor', 'tast', 'like', 'cream', 'sauc', 'pesto', 'runnywateri', 'way', 'much', 'sauc', 'enough', 'noodl', 'husband', 'pasta', 'even', 'less', 'flavor', 'mine', 'ate', 'quarter', 'food', 'couldnt', 'even', 'finish', 'took', 'home', 'bad', 'didnt', 'even', 'eat', 'leftov', 'hate', 'wast', 'food', 'plu', 'price', 'expens', 'amount', 'food', 'get', 'cours', 'poor', 'qualiti', 'dont', 'wast', 'time', 'eat', 'much', 'better', 'italian', 'restaur', 'pittsburgh']",
         "['food', 'good', 'husband', 'ate', 'couple', 'week', 'ago', 'first', 'time', 'ordered', 'salad', 'basil', 'pesto', 'cream', 'pasta', 'husband', 'ordered', 'spinach', 'feta', 'pasta', 'salad', 'huge', 'plate', 'spring', 'mix', 'nothing', 'else', 'way', 'much', 'vinegar', 'dressing', 'lettuce', 'drowning', 'vinegar', 'pesto', 'pasta', 'flavor', 'taste', 'like', 'cream', 'sauce', 'pesto', 'runnywatery', 'way', 'much', 'sauce', 'enough', 'noodle', 'husband', 'pasta', 'even', 'less', 'flavor', 'mine', 'ate', 'quarter', 'food', 'couldnt', 'even', 'finish', 'took', 'home', 'bad', 'didnt', 'even', 'eat', 'leftover', 'hate', 'wasting', 'food', 'plus', 'price', 'expensive', 'amount', 'food', 'get', 'course', 'poor', 'quality', 'dont', 'waste', 'time', 'eating', 'much', 'better', 'italian', 'restaurant', 'pittsburgh']"
        ]
       ],
       "shape": {
        "columns": 5,
        "rows": 5
       }
      },
      "text/html": [
       "<div>\n",
       "<style scoped>\n",
       "    .dataframe tbody tr th:only-of-type {\n",
       "        vertical-align: middle;\n",
       "    }\n",
       "\n",
       "    .dataframe tbody tr th {\n",
       "        vertical-align: top;\n",
       "    }\n",
       "\n",
       "    .dataframe thead th {\n",
       "        text-align: right;\n",
       "    }\n",
       "</style>\n",
       "<table border=\"1\" class=\"dataframe\">\n",
       "  <thead>\n",
       "    <tr style=\"text-align: right;\">\n",
       "      <th></th>\n",
       "      <th>label</th>\n",
       "      <th>text</th>\n",
       "      <th>cleaned</th>\n",
       "      <th>stemmed_cleaned</th>\n",
       "      <th>lemma_cleaned</th>\n",
       "    </tr>\n",
       "  </thead>\n",
       "  <tbody>\n",
       "    <tr>\n",
       "      <th>0</th>\n",
       "      <td>0</td>\n",
       "      <td>I got 'new' tires from them and within two wee...</td>\n",
       "      <td>[got, new, tires, within, two, weeks, got, fla...</td>\n",
       "      <td>[got, new, tire, within, two, week, got, flat,...</td>\n",
       "      <td>[got, new, tire, within, two, week, got, flat,...</td>\n",
       "    </tr>\n",
       "    <tr>\n",
       "      <th>1</th>\n",
       "      <td>0</td>\n",
       "      <td>Don't waste your time.  We had two different p...</td>\n",
       "      <td>[dont, waste, time, two, different, people, co...</td>\n",
       "      <td>[dont, wast, time, two, differ, peopl, come, h...</td>\n",
       "      <td>[dont, waste, time, two, different, people, co...</td>\n",
       "    </tr>\n",
       "    <tr>\n",
       "      <th>2</th>\n",
       "      <td>0</td>\n",
       "      <td>All I can say is the worst! We were the only 2...</td>\n",
       "      <td>[say, worst, 2, people, place, lunch, place, f...</td>\n",
       "      <td>[say, worst, 2, peopl, place, lunch, place, fr...</td>\n",
       "      <td>[say, worst, 2, people, place, lunch, place, f...</td>\n",
       "    </tr>\n",
       "    <tr>\n",
       "      <th>3</th>\n",
       "      <td>0</td>\n",
       "      <td>I have been to this restaurant twice and was d...</td>\n",
       "      <td>[restaurant, twice, disappointed, times, wont,...</td>\n",
       "      <td>[restaur, twice, disappoint, time, wont, go, b...</td>\n",
       "      <td>[restaurant, twice, disappointed, time, wont, ...</td>\n",
       "    </tr>\n",
       "    <tr>\n",
       "      <th>4</th>\n",
       "      <td>0</td>\n",
       "      <td>Food was NOT GOOD at all! My husband &amp; I ate h...</td>\n",
       "      <td>[food, good, husband, ate, couple, weeks, ago,...</td>\n",
       "      <td>[food, good, husband, ate, coupl, week, ago, f...</td>\n",
       "      <td>[food, good, husband, ate, couple, week, ago, ...</td>\n",
       "    </tr>\n",
       "  </tbody>\n",
       "</table>\n",
       "</div>"
      ],
      "text/plain": [
       "   label                                               text  \\\n",
       "0      0  I got 'new' tires from them and within two wee...   \n",
       "1      0  Don't waste your time.  We had two different p...   \n",
       "2      0  All I can say is the worst! We were the only 2...   \n",
       "3      0  I have been to this restaurant twice and was d...   \n",
       "4      0  Food was NOT GOOD at all! My husband & I ate h...   \n",
       "\n",
       "                                             cleaned  \\\n",
       "0  [got, new, tires, within, two, weeks, got, fla...   \n",
       "1  [dont, waste, time, two, different, people, co...   \n",
       "2  [say, worst, 2, people, place, lunch, place, f...   \n",
       "3  [restaurant, twice, disappointed, times, wont,...   \n",
       "4  [food, good, husband, ate, couple, weeks, ago,...   \n",
       "\n",
       "                                     stemmed_cleaned  \\\n",
       "0  [got, new, tire, within, two, week, got, flat,...   \n",
       "1  [dont, wast, time, two, differ, peopl, come, h...   \n",
       "2  [say, worst, 2, peopl, place, lunch, place, fr...   \n",
       "3  [restaur, twice, disappoint, time, wont, go, b...   \n",
       "4  [food, good, husband, ate, coupl, week, ago, f...   \n",
       "\n",
       "                                       lemma_cleaned  \n",
       "0  [got, new, tire, within, two, week, got, flat,...  \n",
       "1  [dont, waste, time, two, different, people, co...  \n",
       "2  [say, worst, 2, people, place, lunch, place, f...  \n",
       "3  [restaurant, twice, disappointed, time, wont, ...  \n",
       "4  [food, good, husband, ate, couple, week, ago, ...  "
      ]
     },
     "execution_count": 13,
     "metadata": {},
     "output_type": "execute_result"
    }
   ],
   "source": [
    "test_df['cleaned'] = test_df['text'].apply(hf.clean_tokenize_drop_stops)\n",
    "print('cleaned')\n",
    "test_df['stemmed_cleaned'] = test_df['cleaned'].apply(hf.stem)\n",
    "print('stemmed')\n",
    "test_df['lemma_cleaned'] = test_df['cleaned'].apply(hf.lemma)\n",
    "print('lemmad')\n",
    "test_df.head()"
   ]
  },
  {
   "cell_type": "code",
   "execution_count": 14,
   "metadata": {},
   "outputs": [
    {
     "name": "stdout",
     "output_type": "stream",
     "text": [
      "cleaned\n",
      "stemmed\n",
      "lemmad\n"
     ]
    },
    {
     "data": {
      "application/vnd.microsoft.datawrangler.viewer.v0+json": {
       "columns": [
        {
         "name": "index",
         "rawType": "int64",
         "type": "integer"
        },
        {
         "name": "label",
         "rawType": "int64",
         "type": "integer"
        },
        {
         "name": "text",
         "rawType": "object",
         "type": "string"
        },
        {
         "name": "cleaned",
         "rawType": "object",
         "type": "unknown"
        },
        {
         "name": "stemmed_cleaned",
         "rawType": "object",
         "type": "unknown"
        },
        {
         "name": "lemma_cleaned",
         "rawType": "object",
         "type": "unknown"
        }
       ],
       "conversionMethod": "pd.DataFrame",
       "ref": "220cb8d5-71c0-41d5-8122-12a1b3042d24",
       "rows": [
        [
         "0",
         "2",
         "dr. goldberg offers everything i look for in a general practitioner.  he's nice and easy to talk to without being patronizing; he's always on time in seeing his patients; he's affiliated with a top-notch hospital (nyu) which my parents have explained to me is very important in case something happens and you need surgery; and you can get referrals to see specialists without having to see him first.  really, what more do you need?  i'm sitting here trying to think of any complaints i have about him, but i'm really drawing a blank.",
         "['dr', 'goldberg', 'offers', 'everything', 'look', 'general', 'practitioner', 'hes', 'nice', 'easy', 'talk', 'without', 'patronizing', 'hes', 'always', 'time', 'seeing', 'patients', 'hes', 'affiliated', 'topnotch', 'hospital', 'nyu', 'parents', 'explained', 'important', 'case', 'something', 'happens', 'need', 'surgery', 'get', 'referrals', 'see', 'specialists', 'without', 'see', 'first', 'really', 'need', 'im', 'sitting', 'trying', 'think', 'complaints', 'im', 'really', 'drawing', 'blank']",
         "['dr', 'goldberg', 'offer', 'everyth', 'look', 'gener', 'practition', 'he', 'nice', 'easi', 'talk', 'without', 'patron', 'he', 'alway', 'time', 'see', 'patient', 'he', 'affili', 'topnotch', 'hospit', 'nyu', 'parent', 'explain', 'import', 'case', 'someth', 'happen', 'need', 'surgeri', 'get', 'referr', 'see', 'specialist', 'without', 'see', 'first', 'realli', 'need', 'im', 'sit', 'tri', 'think', 'complaint', 'im', 'realli', 'draw', 'blank']",
         "['dr', 'goldberg', 'offer', 'everything', 'look', 'general', 'practitioner', 'he', 'nice', 'easy', 'talk', 'without', 'patronizing', 'he', 'always', 'time', 'seeing', 'patient', 'he', 'affiliated', 'topnotch', 'hospital', 'nyu', 'parent', 'explained', 'important', 'case', 'something', 'happens', 'need', 'surgery', 'get', 'referral', 'see', 'specialist', 'without', 'see', 'first', 'really', 'need', 'im', 'sitting', 'trying', 'think', 'complaint', 'im', 'really', 'drawing', 'blank']"
        ],
        [
         "1",
         "0",
         "Unfortunately, the frustration of being Dr. Goldberg's patient is a repeat of the experience I've had with so many other doctors in NYC -- good doctor, terrible staff.  It seems that his staff simply never answers the phone.  It usually takes 2 hours of repeated calling to get an answer.  Who has time for that or wants to deal with it?  I have run into this problem with many other doctors and I just don't get it.  You have office workers, you have patients with medical needs, why isn't anyone answering the phone?  It's incomprehensible and not work the aggravation.  It's with regret that I feel that I have to give Dr. Goldberg 2 stars.",
         "['unfortunately', 'frustration', 'dr', 'goldbergs', 'patient', 'repeat', 'experience', 'ive', 'many', 'doctors', 'nyc', 'good', 'doctor', 'terrible', 'staff', 'seems', 'staff', 'simply', 'never', 'answers', 'phone', 'usually', 'takes', '2', 'hours', 'repeated', 'calling', 'get', 'answer', 'time', 'wants', 'deal', 'run', 'problem', 'many', 'doctors', 'dont', 'get', 'office', 'workers', 'patients', 'medical', 'needs', 'isnt', 'anyone', 'answering', 'phone', 'incomprehensible', 'work', 'aggravation', 'regret', 'feel', 'give', 'dr', 'goldberg', '2', 'stars']",
         "['unfortun', 'frustrat', 'dr', 'goldberg', 'patient', 'repeat', 'experi', 'ive', 'mani', 'doctor', 'nyc', 'good', 'doctor', 'terribl', 'staff', 'seem', 'staff', 'simpli', 'never', 'answer', 'phone', 'usual', 'take', '2', 'hour', 'repeat', 'call', 'get', 'answer', 'time', 'want', 'deal', 'run', 'problem', 'mani', 'doctor', 'dont', 'get', 'offic', 'worker', 'patient', 'medic', 'need', 'isnt', 'anyon', 'answer', 'phone', 'incomprehens', 'work', 'aggrav', 'regret', 'feel', 'give', 'dr', 'goldberg', '2', 'star']",
         "['unfortunately', 'frustration', 'dr', 'goldberg', 'patient', 'repeat', 'experience', 'ive', 'many', 'doctor', 'nyc', 'good', 'doctor', 'terrible', 'staff', 'seems', 'staff', 'simply', 'never', 'answer', 'phone', 'usually', 'take', '2', 'hour', 'repeated', 'calling', 'get', 'answer', 'time', 'want', 'deal', 'run', 'problem', 'many', 'doctor', 'dont', 'get', 'office', 'worker', 'patient', 'medical', 'need', 'isnt', 'anyone', 'answering', 'phone', 'incomprehensible', 'work', 'aggravation', 'regret', 'feel', 'give', 'dr', 'goldberg', '2', 'star']"
        ],
        [
         "2",
         "2",
         "Been going to Dr. Goldberg for over 10 years. I think I was one of his 1st patients when he started at MHMG. He's been great over the years and is really all about the big picture. It is because of him, not my now former gyn Dr. Markoff, that I found out I have fibroids. He explores all options with you and is very patient and understanding. He doesn't judge and asks all the right questions. Very thorough and wants to be kept in the loop on every aspect of your medical health and your life.",
         "['going', 'dr', 'goldberg', '10', 'years', 'think', 'one', '1st', 'patients', 'started', 'mhmg', 'hes', 'great', 'years', 'really', 'big', 'picture', 'former', 'gyn', 'dr', 'markoff', 'found', 'fibroids', 'explores', 'options', 'patient', 'understanding', 'doesnt', 'judge', 'asks', 'right', 'questions', 'thorough', 'wants', 'kept', 'loop', 'every', 'aspect', 'medical', 'health', 'life']",
         "['go', 'dr', 'goldberg', '10', 'year', 'think', 'one', '1st', 'patient', 'start', 'mhmg', 'he', 'great', 'year', 'realli', 'big', 'pictur', 'former', 'gyn', 'dr', 'markoff', 'found', 'fibroid', 'explor', 'option', 'patient', 'understand', 'doesnt', 'judg', 'ask', 'right', 'question', 'thorough', 'want', 'kept', 'loop', 'everi', 'aspect', 'medic', 'health', 'life']",
         "['going', 'dr', 'goldberg', '10', 'year', 'think', 'one', '1st', 'patient', 'started', 'mhmg', 'he', 'great', 'year', 'really', 'big', 'picture', 'former', 'gyn', 'dr', 'markoff', 'found', 'fibroid', 'explores', 'option', 'patient', 'understanding', 'doesnt', 'judge', 'asks', 'right', 'question', 'thorough', 'want', 'kept', 'loop', 'every', 'aspect', 'medical', 'health', 'life']"
        ],
        [
         "3",
         "2",
         "Got a letter in the mail last week that said Dr. Goldberg is moving to Arizona to take a new position there in June.  He will be missed very much.  \\n\\nI think finding a new doctor in NYC that you actually like might almost be as awful as trying to find a date!",
         "['got', 'letter', 'mail', 'last', 'week', 'said', 'dr', 'goldberg', 'moving', 'arizona', 'take', 'new', 'position', 'june', 'missed', 'much', 'nni', 'think', 'finding', 'new', 'doctor', 'nyc', 'actually', 'like', 'might', 'almost', 'awful', 'trying', 'find', 'date']",
         "['got', 'letter', 'mail', 'last', 'week', 'said', 'dr', 'goldberg', 'move', 'arizona', 'take', 'new', 'posit', 'june', 'miss', 'much', 'nni', 'think', 'find', 'new', 'doctor', 'nyc', 'actual', 'like', 'might', 'almost', 'aw', 'tri', 'find', 'date']",
         "['got', 'letter', 'mail', 'last', 'week', 'said', 'dr', 'goldberg', 'moving', 'arizona', 'take', 'new', 'position', 'june', 'missed', 'much', 'nni', 'think', 'finding', 'new', 'doctor', 'nyc', 'actually', 'like', 'might', 'almost', 'awful', 'trying', 'find', 'date']"
        ],
        [
         "4",
         "0",
         "I don't know what Dr. Goldberg was like before  moving to Arizona, but let me tell you, STAY AWAY from this doctor and this office. I was going to Dr. Johnson before he left and Goldberg took over when Johnson left. He is not a caring doctor. He is only interested in the co-pay and having you come in for medication refills every month. He will not give refills and could less about patients's financial situations. Trying to get your 90 days mail away pharmacy prescriptions through this guy is a joke. And to make matters even worse, his office staff is incompetent. 90% of the time when you call the office, they'll put you through to a voice mail, that NO ONE ever answers or returns your call. Both my adult children and husband have decided to leave this practice after experiencing such frustration. The entire office has an attitude like they are doing you a favor. Give me a break! Stay away from this doc and the practice. You deserve better and they will not be there when you really need them. I have never felt compelled to write a bad review about anyone until I met this pathetic excuse for a doctor who is all about the money.",
         "['dont', 'know', 'dr', 'goldberg', 'like', 'moving', 'arizona', 'let', 'tell', 'stay', 'away', 'doctor', 'office', 'going', 'dr', 'johnson', 'left', 'goldberg', 'took', 'johnson', 'left', 'caring', 'doctor', 'interested', 'copay', 'come', 'medication', 'refills', 'every', 'month', 'give', 'refills', 'could', 'less', 'patientss', 'financial', 'situations', 'trying', 'get', '90', 'days', 'mail', 'away', 'pharmacy', 'prescriptions', 'guy', 'joke', 'make', 'matters', 'even', 'worse', 'office', 'staff', 'incompetent', '90', 'time', 'call', 'office', 'theyll', 'put', 'voice', 'mail', 'one', 'ever', 'answers', 'returns', 'call', 'adult', 'children', 'husband', 'decided', 'leave', 'practice', 'experiencing', 'frustration', 'entire', 'office', 'attitude', 'like', 'favor', 'give', 'break', 'stay', 'away', 'doc', 'practice', 'deserve', 'better', 'really', 'need', 'never', 'felt', 'compelled', 'write', 'bad', 'review', 'anyone', 'met', 'pathetic', 'excuse', 'doctor', 'money']",
         "['dont', 'know', 'dr', 'goldberg', 'like', 'move', 'arizona', 'let', 'tell', 'stay', 'away', 'doctor', 'offic', 'go', 'dr', 'johnson', 'left', 'goldberg', 'took', 'johnson', 'left', 'care', 'doctor', 'interest', 'copay', 'come', 'medic', 'refil', 'everi', 'month', 'give', 'refil', 'could', 'less', 'patientss', 'financi', 'situat', 'tri', 'get', '90', 'day', 'mail', 'away', 'pharmaci', 'prescript', 'guy', 'joke', 'make', 'matter', 'even', 'wors', 'offic', 'staff', 'incompet', '90', 'time', 'call', 'offic', 'theyll', 'put', 'voic', 'mail', 'one', 'ever', 'answer', 'return', 'call', 'adult', 'children', 'husband', 'decid', 'leav', 'practic', 'experienc', 'frustrat', 'entir', 'offic', 'attitud', 'like', 'favor', 'give', 'break', 'stay', 'away', 'doc', 'practic', 'deserv', 'better', 'realli', 'need', 'never', 'felt', 'compel', 'write', 'bad', 'review', 'anyon', 'met', 'pathet', 'excus', 'doctor', 'money']",
         "['dont', 'know', 'dr', 'goldberg', 'like', 'moving', 'arizona', 'let', 'tell', 'stay', 'away', 'doctor', 'office', 'going', 'dr', 'johnson', 'left', 'goldberg', 'took', 'johnson', 'left', 'caring', 'doctor', 'interested', 'copay', 'come', 'medication', 'refill', 'every', 'month', 'give', 'refill', 'could', 'less', 'patientss', 'financial', 'situation', 'trying', 'get', '90', 'day', 'mail', 'away', 'pharmacy', 'prescription', 'guy', 'joke', 'make', 'matter', 'even', 'worse', 'office', 'staff', 'incompetent', '90', 'time', 'call', 'office', 'theyll', 'put', 'voice', 'mail', 'one', 'ever', 'answer', 'return', 'call', 'adult', 'child', 'husband', 'decided', 'leave', 'practice', 'experiencing', 'frustration', 'entire', 'office', 'attitude', 'like', 'favor', 'give', 'break', 'stay', 'away', 'doc', 'practice', 'deserve', 'better', 'really', 'need', 'never', 'felt', 'compelled', 'write', 'bad', 'review', 'anyone', 'met', 'pathetic', 'excuse', 'doctor', 'money']"
        ]
       ],
       "shape": {
        "columns": 5,
        "rows": 5
       }
      },
      "text/html": [
       "<div>\n",
       "<style scoped>\n",
       "    .dataframe tbody tr th:only-of-type {\n",
       "        vertical-align: middle;\n",
       "    }\n",
       "\n",
       "    .dataframe tbody tr th {\n",
       "        vertical-align: top;\n",
       "    }\n",
       "\n",
       "    .dataframe thead th {\n",
       "        text-align: right;\n",
       "    }\n",
       "</style>\n",
       "<table border=\"1\" class=\"dataframe\">\n",
       "  <thead>\n",
       "    <tr style=\"text-align: right;\">\n",
       "      <th></th>\n",
       "      <th>label</th>\n",
       "      <th>text</th>\n",
       "      <th>cleaned</th>\n",
       "      <th>stemmed_cleaned</th>\n",
       "      <th>lemma_cleaned</th>\n",
       "    </tr>\n",
       "  </thead>\n",
       "  <tbody>\n",
       "    <tr>\n",
       "      <th>0</th>\n",
       "      <td>2</td>\n",
       "      <td>dr. goldberg offers everything i look for in a...</td>\n",
       "      <td>[dr, goldberg, offers, everything, look, gener...</td>\n",
       "      <td>[dr, goldberg, offer, everyth, look, gener, pr...</td>\n",
       "      <td>[dr, goldberg, offer, everything, look, genera...</td>\n",
       "    </tr>\n",
       "    <tr>\n",
       "      <th>1</th>\n",
       "      <td>0</td>\n",
       "      <td>Unfortunately, the frustration of being Dr. Go...</td>\n",
       "      <td>[unfortunately, frustration, dr, goldbergs, pa...</td>\n",
       "      <td>[unfortun, frustrat, dr, goldberg, patient, re...</td>\n",
       "      <td>[unfortunately, frustration, dr, goldberg, pat...</td>\n",
       "    </tr>\n",
       "    <tr>\n",
       "      <th>2</th>\n",
       "      <td>2</td>\n",
       "      <td>Been going to Dr. Goldberg for over 10 years. ...</td>\n",
       "      <td>[going, dr, goldberg, 10, years, think, one, 1...</td>\n",
       "      <td>[go, dr, goldberg, 10, year, think, one, 1st, ...</td>\n",
       "      <td>[going, dr, goldberg, 10, year, think, one, 1s...</td>\n",
       "    </tr>\n",
       "    <tr>\n",
       "      <th>3</th>\n",
       "      <td>2</td>\n",
       "      <td>Got a letter in the mail last week that said D...</td>\n",
       "      <td>[got, letter, mail, last, week, said, dr, gold...</td>\n",
       "      <td>[got, letter, mail, last, week, said, dr, gold...</td>\n",
       "      <td>[got, letter, mail, last, week, said, dr, gold...</td>\n",
       "    </tr>\n",
       "    <tr>\n",
       "      <th>4</th>\n",
       "      <td>0</td>\n",
       "      <td>I don't know what Dr. Goldberg was like before...</td>\n",
       "      <td>[dont, know, dr, goldberg, like, moving, arizo...</td>\n",
       "      <td>[dont, know, dr, goldberg, like, move, arizona...</td>\n",
       "      <td>[dont, know, dr, goldberg, like, moving, arizo...</td>\n",
       "    </tr>\n",
       "  </tbody>\n",
       "</table>\n",
       "</div>"
      ],
      "text/plain": [
       "   label                                               text  \\\n",
       "0      2  dr. goldberg offers everything i look for in a...   \n",
       "1      0  Unfortunately, the frustration of being Dr. Go...   \n",
       "2      2  Been going to Dr. Goldberg for over 10 years. ...   \n",
       "3      2  Got a letter in the mail last week that said D...   \n",
       "4      0  I don't know what Dr. Goldberg was like before...   \n",
       "\n",
       "                                             cleaned  \\\n",
       "0  [dr, goldberg, offers, everything, look, gener...   \n",
       "1  [unfortunately, frustration, dr, goldbergs, pa...   \n",
       "2  [going, dr, goldberg, 10, years, think, one, 1...   \n",
       "3  [got, letter, mail, last, week, said, dr, gold...   \n",
       "4  [dont, know, dr, goldberg, like, moving, arizo...   \n",
       "\n",
       "                                     stemmed_cleaned  \\\n",
       "0  [dr, goldberg, offer, everyth, look, gener, pr...   \n",
       "1  [unfortun, frustrat, dr, goldberg, patient, re...   \n",
       "2  [go, dr, goldberg, 10, year, think, one, 1st, ...   \n",
       "3  [got, letter, mail, last, week, said, dr, gold...   \n",
       "4  [dont, know, dr, goldberg, like, move, arizona...   \n",
       "\n",
       "                                       lemma_cleaned  \n",
       "0  [dr, goldberg, offer, everything, look, genera...  \n",
       "1  [unfortunately, frustration, dr, goldberg, pat...  \n",
       "2  [going, dr, goldberg, 10, year, think, one, 1s...  \n",
       "3  [got, letter, mail, last, week, said, dr, gold...  \n",
       "4  [dont, know, dr, goldberg, like, moving, arizo...  "
      ]
     },
     "execution_count": 14,
     "metadata": {},
     "output_type": "execute_result"
    }
   ],
   "source": [
    "train_df['cleaned'] = train_df['text'].apply(hf.clean_tokenize_drop_stops)\n",
    "print('cleaned')\n",
    "train_df['stemmed_cleaned'] = train_df['cleaned'].apply(hf.stem)\n",
    "print('stemmed')\n",
    "train_df['lemma_cleaned'] = train_df['cleaned'].apply(hf.lemma)\n",
    "print('lemmad')\n",
    "train_df.head()"
   ]
  },
  {
   "cell_type": "code",
   "execution_count": 15,
   "metadata": {},
   "outputs": [],
   "source": [
    "stem_train_df = train_df[['label', 'stemmed_cleaned']].rename(columns={'stemmed_cleaned': 'text'})\n",
    "stem_test_df = test_df[['label', 'stemmed_cleaned']].rename(columns={'stemmed_cleaned': 'text'})\n",
    "\n",
    "lemm_train_df = train_df[['label', 'lemma_cleaned']].rename(columns={'lemma_cleaned': 'text'})\n",
    "lemm_test_df = test_df[['label', 'lemma_cleaned']].rename(columns={'lemma_cleaned': 'text'})\n",
    "\n",
    "clean_train_df = train_df[['label', 'cleaned']].rename(columns={'cleaned': 'text'})\n",
    "clean_test_df = test_df[['label', 'cleaned']].rename(columns={'cleaned': 'text'})"
   ]
  },
  {
   "cell_type": "code",
   "execution_count": 16,
   "metadata": {},
   "outputs": [
    {
     "data": {
      "application/vnd.microsoft.datawrangler.viewer.v0+json": {
       "columns": [
        {
         "name": "index",
         "rawType": "int64",
         "type": "integer"
        },
        {
         "name": "label",
         "rawType": "int64",
         "type": "integer"
        },
        {
         "name": "text",
         "rawType": "object",
         "type": "unknown"
        }
       ],
       "conversionMethod": "pd.DataFrame",
       "ref": "7e407621-8ba2-4c3b-ac3e-be06f6e640a6",
       "rows": [
        [
         "0",
         "2",
         "['dr', 'goldberg', 'offer', 'everyth', 'look', 'gener', 'practition', 'he', 'nice', 'easi', 'talk', 'without', 'patron', 'he', 'alway', 'time', 'see', 'patient', 'he', 'affili', 'topnotch', 'hospit', 'nyu', 'parent', 'explain', 'import', 'case', 'someth', 'happen', 'need', 'surgeri', 'get', 'referr', 'see', 'specialist', 'without', 'see', 'first', 'realli', 'need', 'im', 'sit', 'tri', 'think', 'complaint', 'im', 'realli', 'draw', 'blank']"
        ],
        [
         "1",
         "0",
         "['unfortun', 'frustrat', 'dr', 'goldberg', 'patient', 'repeat', 'experi', 'ive', 'mani', 'doctor', 'nyc', 'good', 'doctor', 'terribl', 'staff', 'seem', 'staff', 'simpli', 'never', 'answer', 'phone', 'usual', 'take', '2', 'hour', 'repeat', 'call', 'get', 'answer', 'time', 'want', 'deal', 'run', 'problem', 'mani', 'doctor', 'dont', 'get', 'offic', 'worker', 'patient', 'medic', 'need', 'isnt', 'anyon', 'answer', 'phone', 'incomprehens', 'work', 'aggrav', 'regret', 'feel', 'give', 'dr', 'goldberg', '2', 'star']"
        ],
        [
         "2",
         "2",
         "['go', 'dr', 'goldberg', '10', 'year', 'think', 'one', '1st', 'patient', 'start', 'mhmg', 'he', 'great', 'year', 'realli', 'big', 'pictur', 'former', 'gyn', 'dr', 'markoff', 'found', 'fibroid', 'explor', 'option', 'patient', 'understand', 'doesnt', 'judg', 'ask', 'right', 'question', 'thorough', 'want', 'kept', 'loop', 'everi', 'aspect', 'medic', 'health', 'life']"
        ],
        [
         "3",
         "2",
         "['got', 'letter', 'mail', 'last', 'week', 'said', 'dr', 'goldberg', 'move', 'arizona', 'take', 'new', 'posit', 'june', 'miss', 'much', 'nni', 'think', 'find', 'new', 'doctor', 'nyc', 'actual', 'like', 'might', 'almost', 'aw', 'tri', 'find', 'date']"
        ],
        [
         "4",
         "0",
         "['dont', 'know', 'dr', 'goldberg', 'like', 'move', 'arizona', 'let', 'tell', 'stay', 'away', 'doctor', 'offic', 'go', 'dr', 'johnson', 'left', 'goldberg', 'took', 'johnson', 'left', 'care', 'doctor', 'interest', 'copay', 'come', 'medic', 'refil', 'everi', 'month', 'give', 'refil', 'could', 'less', 'patientss', 'financi', 'situat', 'tri', 'get', '90', 'day', 'mail', 'away', 'pharmaci', 'prescript', 'guy', 'joke', 'make', 'matter', 'even', 'wors', 'offic', 'staff', 'incompet', '90', 'time', 'call', 'offic', 'theyll', 'put', 'voic', 'mail', 'one', 'ever', 'answer', 'return', 'call', 'adult', 'children', 'husband', 'decid', 'leav', 'practic', 'experienc', 'frustrat', 'entir', 'offic', 'attitud', 'like', 'favor', 'give', 'break', 'stay', 'away', 'doc', 'practic', 'deserv', 'better', 'realli', 'need', 'never', 'felt', 'compel', 'write', 'bad', 'review', 'anyon', 'met', 'pathet', 'excus', 'doctor', 'money']"
        ]
       ],
       "shape": {
        "columns": 2,
        "rows": 5
       }
      },
      "text/html": [
       "<div>\n",
       "<style scoped>\n",
       "    .dataframe tbody tr th:only-of-type {\n",
       "        vertical-align: middle;\n",
       "    }\n",
       "\n",
       "    .dataframe tbody tr th {\n",
       "        vertical-align: top;\n",
       "    }\n",
       "\n",
       "    .dataframe thead th {\n",
       "        text-align: right;\n",
       "    }\n",
       "</style>\n",
       "<table border=\"1\" class=\"dataframe\">\n",
       "  <thead>\n",
       "    <tr style=\"text-align: right;\">\n",
       "      <th></th>\n",
       "      <th>label</th>\n",
       "      <th>text</th>\n",
       "    </tr>\n",
       "  </thead>\n",
       "  <tbody>\n",
       "    <tr>\n",
       "      <th>0</th>\n",
       "      <td>2</td>\n",
       "      <td>[dr, goldberg, offer, everyth, look, gener, pr...</td>\n",
       "    </tr>\n",
       "    <tr>\n",
       "      <th>1</th>\n",
       "      <td>0</td>\n",
       "      <td>[unfortun, frustrat, dr, goldberg, patient, re...</td>\n",
       "    </tr>\n",
       "    <tr>\n",
       "      <th>2</th>\n",
       "      <td>2</td>\n",
       "      <td>[go, dr, goldberg, 10, year, think, one, 1st, ...</td>\n",
       "    </tr>\n",
       "    <tr>\n",
       "      <th>3</th>\n",
       "      <td>2</td>\n",
       "      <td>[got, letter, mail, last, week, said, dr, gold...</td>\n",
       "    </tr>\n",
       "    <tr>\n",
       "      <th>4</th>\n",
       "      <td>0</td>\n",
       "      <td>[dont, know, dr, goldberg, like, move, arizona...</td>\n",
       "    </tr>\n",
       "  </tbody>\n",
       "</table>\n",
       "</div>"
      ],
      "text/plain": [
       "   label                                               text\n",
       "0      2  [dr, goldberg, offer, everyth, look, gener, pr...\n",
       "1      0  [unfortun, frustrat, dr, goldberg, patient, re...\n",
       "2      2  [go, dr, goldberg, 10, year, think, one, 1st, ...\n",
       "3      2  [got, letter, mail, last, week, said, dr, gold...\n",
       "4      0  [dont, know, dr, goldberg, like, move, arizona..."
      ]
     },
     "metadata": {},
     "output_type": "display_data"
    },
    {
     "data": {
      "application/vnd.microsoft.datawrangler.viewer.v0+json": {
       "columns": [
        {
         "name": "index",
         "rawType": "int64",
         "type": "integer"
        },
        {
         "name": "label",
         "rawType": "int64",
         "type": "integer"
        },
        {
         "name": "text",
         "rawType": "object",
         "type": "unknown"
        }
       ],
       "conversionMethod": "pd.DataFrame",
       "ref": "79a4985d-90ac-42ca-81c3-906562aa6587",
       "rows": [
        [
         "0",
         "0",
         "['got', 'new', 'tire', 'within', 'two', 'week', 'got', 'flat', 'took', 'car', 'local', 'mechan', 'see', 'could', 'get', 'hole', 'patch', 'said', 'reason', 'flat', 'previou', 'patch', 'blown', 'wait', 'got', 'tire', 'never', 'need', 'patch', 'suppos', 'new', 'tire', 'ni', 'took', 'tire', 'flynn', 'told', 'someon', 'punctur', 'tire', 'tri', 'patch', 'resent', 'tire', 'slasher', 'find', 'unlik', 'argu', 'guy', 'tell', 'logic', 'far', 'fetch', 'said', 'hed', 'give', 'new', 'tire', 'time', 'ni', 'never', 'go', 'back', 'flynn', 'bc', 'way', 'guy', 'treat', 'simpl', 'fact', 'gave', 'use', 'tire']"
        ],
        [
         "1",
         "0",
         "['dont', 'wast', 'time', 'two', 'differ', 'peopl', 'come', 'hous', 'give', 'us', 'estim', 'deck', 'one', 'owner', 'time', 'never', 'heard', 'call', 'estim', 'noth']"
        ],
        [
         "2",
         "0",
         "['say', 'worst', '2', 'peopl', 'place', 'lunch', 'place', 'freez', 'load', 'kid', 'toy', '2', 'bicycl', 'scooter', 'electron', 'keyboard', 'grace', 'dine', 'room', 'fish', 'tank', 'filthi', 'slimi', 'fingerprint', 'smear', 'enjoymentnnour', 'food', 'came', 'water', 'drink', 'tea', 'medium', 'temperatur', 'food', 'cours', 'cold', 'like', 'room', 'never', 'took', 'jacket', 'plate', 'small', 'food', 'spill', 'onto', 'semiclean', 'tabl', 'sit', 'complet', 'worn', 'booth', 'seat', 'fri', 'noodl', 'box', 'nasti', 'shrimp', 'mushi', 'fri', 'rice', 'bright', 'yellownnw', 'ask', 'water', 'brought', 'us', '1', 'solo', 'cup', '2', 'peopl', 'ask', 'hot', 'tea', 'said', '10', 'minut', 'chines', 'restaur', 'hot', 'tea', 'avail', 'upon', 'requestnnov', 'first', 'last', 'visit', 'place', 'good', 'point', 'cheap', 'deservingli']"
        ],
        [
         "3",
         "0",
         "['restaur', 'twice', 'disappoint', 'time', 'wont', 'go', 'back', 'first', 'time', 'almost', '3', 'hour', 'took', 'forev', 'order', 'forev', 'food', 'come', 'place', 'empti', 'complain', 'manag', 'rude', 'tri', 'blame', 'us', 'take', 'long', 'order', 'made', 'sens', 'could', 'order', 'waitress', 'wasnt', 'come', 'tabl', 'argu', 'end', 'take', '6', '200', 'bill', 'ridicul', 'would', 'never', 'return', 'unfortun', 'famili', 'decid', 'go', 'tonight', 'took', 'long', 'time', 'get', 'food', 'food', 'cold', 'bland', 'kid', 'food', 'cold', 'husband', 'salmon', 'burnt', 'crisp', 'sister', 'law', 'took', 'one', 'bite', 'trout', 'refus', 'eat', 'claim', 'disgust', 'wed', 'soup', 'bread', 'good', 'that', 'drink', 'sat', 'empti', 'throughout', 'meal', 'never', 'got', 'refil', 'even', 'ask', 'bad', 'food', 'slow', 'servic', 'rude', 'manag', 'ill', 'pass', 'place', 'famili', 'decid', 'go', 'worth', 'good', 'italian', 'option', 'around']"
        ],
        [
         "4",
         "0",
         "['food', 'good', 'husband', 'ate', 'coupl', 'week', 'ago', 'first', 'time', 'order', 'salad', 'basil', 'pesto', 'cream', 'pasta', 'husband', 'order', 'spinach', 'feta', 'pasta', 'salad', 'huge', 'plate', 'spring', 'mix', 'noth', 'els', 'way', 'much', 'vinegar', 'dress', 'lettuc', 'drown', 'vinegar', 'pesto', 'pasta', 'flavor', 'tast', 'like', 'cream', 'sauc', 'pesto', 'runnywateri', 'way', 'much', 'sauc', 'enough', 'noodl', 'husband', 'pasta', 'even', 'less', 'flavor', 'mine', 'ate', 'quarter', 'food', 'couldnt', 'even', 'finish', 'took', 'home', 'bad', 'didnt', 'even', 'eat', 'leftov', 'hate', 'wast', 'food', 'plu', 'price', 'expens', 'amount', 'food', 'get', 'cours', 'poor', 'qualiti', 'dont', 'wast', 'time', 'eat', 'much', 'better', 'italian', 'restaur', 'pittsburgh']"
        ]
       ],
       "shape": {
        "columns": 2,
        "rows": 5
       }
      },
      "text/html": [
       "<div>\n",
       "<style scoped>\n",
       "    .dataframe tbody tr th:only-of-type {\n",
       "        vertical-align: middle;\n",
       "    }\n",
       "\n",
       "    .dataframe tbody tr th {\n",
       "        vertical-align: top;\n",
       "    }\n",
       "\n",
       "    .dataframe thead th {\n",
       "        text-align: right;\n",
       "    }\n",
       "</style>\n",
       "<table border=\"1\" class=\"dataframe\">\n",
       "  <thead>\n",
       "    <tr style=\"text-align: right;\">\n",
       "      <th></th>\n",
       "      <th>label</th>\n",
       "      <th>text</th>\n",
       "    </tr>\n",
       "  </thead>\n",
       "  <tbody>\n",
       "    <tr>\n",
       "      <th>0</th>\n",
       "      <td>0</td>\n",
       "      <td>[got, new, tire, within, two, week, got, flat,...</td>\n",
       "    </tr>\n",
       "    <tr>\n",
       "      <th>1</th>\n",
       "      <td>0</td>\n",
       "      <td>[dont, wast, time, two, differ, peopl, come, h...</td>\n",
       "    </tr>\n",
       "    <tr>\n",
       "      <th>2</th>\n",
       "      <td>0</td>\n",
       "      <td>[say, worst, 2, peopl, place, lunch, place, fr...</td>\n",
       "    </tr>\n",
       "    <tr>\n",
       "      <th>3</th>\n",
       "      <td>0</td>\n",
       "      <td>[restaur, twice, disappoint, time, wont, go, b...</td>\n",
       "    </tr>\n",
       "    <tr>\n",
       "      <th>4</th>\n",
       "      <td>0</td>\n",
       "      <td>[food, good, husband, ate, coupl, week, ago, f...</td>\n",
       "    </tr>\n",
       "  </tbody>\n",
       "</table>\n",
       "</div>"
      ],
      "text/plain": [
       "   label                                               text\n",
       "0      0  [got, new, tire, within, two, week, got, flat,...\n",
       "1      0  [dont, wast, time, two, differ, peopl, come, h...\n",
       "2      0  [say, worst, 2, peopl, place, lunch, place, fr...\n",
       "3      0  [restaur, twice, disappoint, time, wont, go, b...\n",
       "4      0  [food, good, husband, ate, coupl, week, ago, f..."
      ]
     },
     "metadata": {},
     "output_type": "display_data"
    },
    {
     "data": {
      "application/vnd.microsoft.datawrangler.viewer.v0+json": {
       "columns": [
        {
         "name": "index",
         "rawType": "int64",
         "type": "integer"
        },
        {
         "name": "label",
         "rawType": "int64",
         "type": "integer"
        },
        {
         "name": "text",
         "rawType": "object",
         "type": "unknown"
        }
       ],
       "conversionMethod": "pd.DataFrame",
       "ref": "4866e898-b99b-4859-8ebd-0f51a871e407",
       "rows": [
        [
         "0",
         "2",
         "['dr', 'goldberg', 'offer', 'everything', 'look', 'general', 'practitioner', 'he', 'nice', 'easy', 'talk', 'without', 'patronizing', 'he', 'always', 'time', 'seeing', 'patient', 'he', 'affiliated', 'topnotch', 'hospital', 'nyu', 'parent', 'explained', 'important', 'case', 'something', 'happens', 'need', 'surgery', 'get', 'referral', 'see', 'specialist', 'without', 'see', 'first', 'really', 'need', 'im', 'sitting', 'trying', 'think', 'complaint', 'im', 'really', 'drawing', 'blank']"
        ],
        [
         "1",
         "0",
         "['unfortunately', 'frustration', 'dr', 'goldberg', 'patient', 'repeat', 'experience', 'ive', 'many', 'doctor', 'nyc', 'good', 'doctor', 'terrible', 'staff', 'seems', 'staff', 'simply', 'never', 'answer', 'phone', 'usually', 'take', '2', 'hour', 'repeated', 'calling', 'get', 'answer', 'time', 'want', 'deal', 'run', 'problem', 'many', 'doctor', 'dont', 'get', 'office', 'worker', 'patient', 'medical', 'need', 'isnt', 'anyone', 'answering', 'phone', 'incomprehensible', 'work', 'aggravation', 'regret', 'feel', 'give', 'dr', 'goldberg', '2', 'star']"
        ],
        [
         "2",
         "2",
         "['going', 'dr', 'goldberg', '10', 'year', 'think', 'one', '1st', 'patient', 'started', 'mhmg', 'he', 'great', 'year', 'really', 'big', 'picture', 'former', 'gyn', 'dr', 'markoff', 'found', 'fibroid', 'explores', 'option', 'patient', 'understanding', 'doesnt', 'judge', 'asks', 'right', 'question', 'thorough', 'want', 'kept', 'loop', 'every', 'aspect', 'medical', 'health', 'life']"
        ],
        [
         "3",
         "2",
         "['got', 'letter', 'mail', 'last', 'week', 'said', 'dr', 'goldberg', 'moving', 'arizona', 'take', 'new', 'position', 'june', 'missed', 'much', 'nni', 'think', 'finding', 'new', 'doctor', 'nyc', 'actually', 'like', 'might', 'almost', 'awful', 'trying', 'find', 'date']"
        ],
        [
         "4",
         "0",
         "['dont', 'know', 'dr', 'goldberg', 'like', 'moving', 'arizona', 'let', 'tell', 'stay', 'away', 'doctor', 'office', 'going', 'dr', 'johnson', 'left', 'goldberg', 'took', 'johnson', 'left', 'caring', 'doctor', 'interested', 'copay', 'come', 'medication', 'refill', 'every', 'month', 'give', 'refill', 'could', 'less', 'patientss', 'financial', 'situation', 'trying', 'get', '90', 'day', 'mail', 'away', 'pharmacy', 'prescription', 'guy', 'joke', 'make', 'matter', 'even', 'worse', 'office', 'staff', 'incompetent', '90', 'time', 'call', 'office', 'theyll', 'put', 'voice', 'mail', 'one', 'ever', 'answer', 'return', 'call', 'adult', 'child', 'husband', 'decided', 'leave', 'practice', 'experiencing', 'frustration', 'entire', 'office', 'attitude', 'like', 'favor', 'give', 'break', 'stay', 'away', 'doc', 'practice', 'deserve', 'better', 'really', 'need', 'never', 'felt', 'compelled', 'write', 'bad', 'review', 'anyone', 'met', 'pathetic', 'excuse', 'doctor', 'money']"
        ]
       ],
       "shape": {
        "columns": 2,
        "rows": 5
       }
      },
      "text/html": [
       "<div>\n",
       "<style scoped>\n",
       "    .dataframe tbody tr th:only-of-type {\n",
       "        vertical-align: middle;\n",
       "    }\n",
       "\n",
       "    .dataframe tbody tr th {\n",
       "        vertical-align: top;\n",
       "    }\n",
       "\n",
       "    .dataframe thead th {\n",
       "        text-align: right;\n",
       "    }\n",
       "</style>\n",
       "<table border=\"1\" class=\"dataframe\">\n",
       "  <thead>\n",
       "    <tr style=\"text-align: right;\">\n",
       "      <th></th>\n",
       "      <th>label</th>\n",
       "      <th>text</th>\n",
       "    </tr>\n",
       "  </thead>\n",
       "  <tbody>\n",
       "    <tr>\n",
       "      <th>0</th>\n",
       "      <td>2</td>\n",
       "      <td>[dr, goldberg, offer, everything, look, genera...</td>\n",
       "    </tr>\n",
       "    <tr>\n",
       "      <th>1</th>\n",
       "      <td>0</td>\n",
       "      <td>[unfortunately, frustration, dr, goldberg, pat...</td>\n",
       "    </tr>\n",
       "    <tr>\n",
       "      <th>2</th>\n",
       "      <td>2</td>\n",
       "      <td>[going, dr, goldberg, 10, year, think, one, 1s...</td>\n",
       "    </tr>\n",
       "    <tr>\n",
       "      <th>3</th>\n",
       "      <td>2</td>\n",
       "      <td>[got, letter, mail, last, week, said, dr, gold...</td>\n",
       "    </tr>\n",
       "    <tr>\n",
       "      <th>4</th>\n",
       "      <td>0</td>\n",
       "      <td>[dont, know, dr, goldberg, like, moving, arizo...</td>\n",
       "    </tr>\n",
       "  </tbody>\n",
       "</table>\n",
       "</div>"
      ],
      "text/plain": [
       "   label                                               text\n",
       "0      2  [dr, goldberg, offer, everything, look, genera...\n",
       "1      0  [unfortunately, frustration, dr, goldberg, pat...\n",
       "2      2  [going, dr, goldberg, 10, year, think, one, 1s...\n",
       "3      2  [got, letter, mail, last, week, said, dr, gold...\n",
       "4      0  [dont, know, dr, goldberg, like, moving, arizo..."
      ]
     },
     "metadata": {},
     "output_type": "display_data"
    },
    {
     "data": {
      "application/vnd.microsoft.datawrangler.viewer.v0+json": {
       "columns": [
        {
         "name": "index",
         "rawType": "int64",
         "type": "integer"
        },
        {
         "name": "label",
         "rawType": "int64",
         "type": "integer"
        },
        {
         "name": "text",
         "rawType": "object",
         "type": "unknown"
        }
       ],
       "conversionMethod": "pd.DataFrame",
       "ref": "50139d34-2d5d-477e-92ca-795feeff4d01",
       "rows": [
        [
         "0",
         "0",
         "['got', 'new', 'tire', 'within', 'two', 'week', 'got', 'flat', 'took', 'car', 'local', 'mechanic', 'see', 'could', 'get', 'hole', 'patched', 'said', 'reason', 'flat', 'previous', 'patch', 'blown', 'wait', 'got', 'tire', 'never', 'needed', 'patched', 'supposed', 'new', 'tire', 'ni', 'took', 'tire', 'flynns', 'told', 'someone', 'punctured', 'tire', 'tried', 'patch', 'resentful', 'tire', 'slasher', 'find', 'unlikely', 'arguing', 'guy', 'telling', 'logic', 'far', 'fetched', 'said', 'hed', 'give', 'new', 'tire', 'time', 'ni', 'never', 'go', 'back', 'flynns', 'bc', 'way', 'guy', 'treated', 'simple', 'fact', 'gave', 'used', 'tire']"
        ],
        [
         "1",
         "0",
         "['dont', 'waste', 'time', 'two', 'different', 'people', 'come', 'house', 'give', 'u', 'estimate', 'deck', 'one', 'owner', 'time', 'never', 'heard', 'call', 'estimate', 'nothing']"
        ],
        [
         "2",
         "0",
         "['say', 'worst', '2', 'people', 'place', 'lunch', 'place', 'freezing', 'loaded', 'kid', 'toy', '2', 'bicycle', 'scooter', 'electronic', 'keyboard', 'graced', 'dining', 'room', 'fish', 'tank', 'filthy', 'slimy', 'fingerprint', 'smeared', 'enjoymentnnour', 'food', 'came', 'water', 'drink', 'tea', 'medium', 'temperature', 'food', 'course', 'cold', 'like', 'room', 'never', 'took', 'jacket', 'plate', 'small', 'food', 'spill', 'onto', 'semiclean', 'table', 'sit', 'completely', 'worn', 'booth', 'seat', 'fried', 'noodle', 'box', 'nasty', 'shrimp', 'mushy', 'fried', 'rice', 'bright', 'yellownnwe', 'asked', 'water', 'brought', 'u', '1', 'solo', 'cup', '2', 'people', 'asked', 'hot', 'tea', 'said', '10', 'minute', 'chinese', 'restaurant', 'hot', 'tea', 'available', 'upon', 'requestnnover', 'first', 'last', 'visit', 'place', 'good', 'point', 'cheap', 'deservingly']"
        ],
        [
         "3",
         "0",
         "['restaurant', 'twice', 'disappointed', 'time', 'wont', 'go', 'back', 'first', 'time', 'almost', '3', 'hour', 'took', 'forever', 'order', 'forever', 'food', 'come', 'place', 'empty', 'complained', 'manager', 'rude', 'tried', 'blame', 'u', 'taking', 'long', 'order', 'made', 'sense', 'could', 'order', 'waitress', 'wasnt', 'coming', 'table', 'arguing', 'ended', 'taking', '6', '200', 'bill', 'ridiculous', 'would', 'never', 'returned', 'unfortunately', 'family', 'decided', 'go', 'tonight', 'took', 'long', 'time', 'get', 'food', 'food', 'cold', 'bland', 'kid', 'food', 'cold', 'husband', 'salmon', 'burnt', 'crisp', 'sister', 'law', 'took', 'one', 'bite', 'trout', 'refused', 'eat', 'claim', 'disgusting', 'wedding', 'soup', 'bread', 'good', 'thats', 'drink', 'sat', 'empty', 'throughout', 'meal', 'never', 'got', 'refilled', 'even', 'asked', 'bad', 'food', 'slow', 'service', 'rude', 'manager', 'ill', 'pas', 'place', 'family', 'decides', 'go', 'worth', 'good', 'italian', 'option', 'around']"
        ],
        [
         "4",
         "0",
         "['food', 'good', 'husband', 'ate', 'couple', 'week', 'ago', 'first', 'time', 'ordered', 'salad', 'basil', 'pesto', 'cream', 'pasta', 'husband', 'ordered', 'spinach', 'feta', 'pasta', 'salad', 'huge', 'plate', 'spring', 'mix', 'nothing', 'else', 'way', 'much', 'vinegar', 'dressing', 'lettuce', 'drowning', 'vinegar', 'pesto', 'pasta', 'flavor', 'taste', 'like', 'cream', 'sauce', 'pesto', 'runnywatery', 'way', 'much', 'sauce', 'enough', 'noodle', 'husband', 'pasta', 'even', 'less', 'flavor', 'mine', 'ate', 'quarter', 'food', 'couldnt', 'even', 'finish', 'took', 'home', 'bad', 'didnt', 'even', 'eat', 'leftover', 'hate', 'wasting', 'food', 'plus', 'price', 'expensive', 'amount', 'food', 'get', 'course', 'poor', 'quality', 'dont', 'waste', 'time', 'eating', 'much', 'better', 'italian', 'restaurant', 'pittsburgh']"
        ]
       ],
       "shape": {
        "columns": 2,
        "rows": 5
       }
      },
      "text/html": [
       "<div>\n",
       "<style scoped>\n",
       "    .dataframe tbody tr th:only-of-type {\n",
       "        vertical-align: middle;\n",
       "    }\n",
       "\n",
       "    .dataframe tbody tr th {\n",
       "        vertical-align: top;\n",
       "    }\n",
       "\n",
       "    .dataframe thead th {\n",
       "        text-align: right;\n",
       "    }\n",
       "</style>\n",
       "<table border=\"1\" class=\"dataframe\">\n",
       "  <thead>\n",
       "    <tr style=\"text-align: right;\">\n",
       "      <th></th>\n",
       "      <th>label</th>\n",
       "      <th>text</th>\n",
       "    </tr>\n",
       "  </thead>\n",
       "  <tbody>\n",
       "    <tr>\n",
       "      <th>0</th>\n",
       "      <td>0</td>\n",
       "      <td>[got, new, tire, within, two, week, got, flat,...</td>\n",
       "    </tr>\n",
       "    <tr>\n",
       "      <th>1</th>\n",
       "      <td>0</td>\n",
       "      <td>[dont, waste, time, two, different, people, co...</td>\n",
       "    </tr>\n",
       "    <tr>\n",
       "      <th>2</th>\n",
       "      <td>0</td>\n",
       "      <td>[say, worst, 2, people, place, lunch, place, f...</td>\n",
       "    </tr>\n",
       "    <tr>\n",
       "      <th>3</th>\n",
       "      <td>0</td>\n",
       "      <td>[restaurant, twice, disappointed, time, wont, ...</td>\n",
       "    </tr>\n",
       "    <tr>\n",
       "      <th>4</th>\n",
       "      <td>0</td>\n",
       "      <td>[food, good, husband, ate, couple, week, ago, ...</td>\n",
       "    </tr>\n",
       "  </tbody>\n",
       "</table>\n",
       "</div>"
      ],
      "text/plain": [
       "   label                                               text\n",
       "0      0  [got, new, tire, within, two, week, got, flat,...\n",
       "1      0  [dont, waste, time, two, different, people, co...\n",
       "2      0  [say, worst, 2, people, place, lunch, place, f...\n",
       "3      0  [restaurant, twice, disappointed, time, wont, ...\n",
       "4      0  [food, good, husband, ate, couple, week, ago, ..."
      ]
     },
     "metadata": {},
     "output_type": "display_data"
    }
   ],
   "source": [
    "display(stem_train_df.head())\n",
    "display(stem_test_df.head())\n",
    "display(lemm_train_df.head())\n",
    "display(lemm_test_df.head())"
   ]
  },
  {
   "cell_type": "markdown",
   "metadata": {},
   "source": [
    "### Combine the Datasets back into dictionaries and save them"
   ]
  },
  {
   "cell_type": "code",
   "execution_count": 17,
   "metadata": {},
   "outputs": [
    {
     "data": {
      "application/vnd.jupyter.widget-view+json": {
       "model_id": "7986480b1ffd422fab646a86a8ae6e30",
       "version_major": 2,
       "version_minor": 0
      },
      "text/plain": [
       "Saving the dataset (0/1 shards):   0%|          | 0/650000 [00:00<?, ? examples/s]"
      ]
     },
     "metadata": {},
     "output_type": "display_data"
    },
    {
     "data": {
      "application/vnd.jupyter.widget-view+json": {
       "model_id": "c0abd263e83c43e69ed52c862ee024fd",
       "version_major": 2,
       "version_minor": 0
      },
      "text/plain": [
       "Saving the dataset (0/1 shards):   0%|          | 0/50000 [00:00<?, ? examples/s]"
      ]
     },
     "metadata": {},
     "output_type": "display_data"
    },
    {
     "data": {
      "application/vnd.jupyter.widget-view+json": {
       "model_id": "6b54d0d78f204187b03101e03773792a",
       "version_major": 2,
       "version_minor": 0
      },
      "text/plain": [
       "Saving the dataset (0/1 shards):   0%|          | 0/650000 [00:00<?, ? examples/s]"
      ]
     },
     "metadata": {},
     "output_type": "display_data"
    },
    {
     "data": {
      "application/vnd.jupyter.widget-view+json": {
       "model_id": "0ac4aec6980f486b8d3adb55b791c9d5",
       "version_major": 2,
       "version_minor": 0
      },
      "text/plain": [
       "Saving the dataset (0/1 shards):   0%|          | 0/50000 [00:00<?, ? examples/s]"
      ]
     },
     "metadata": {},
     "output_type": "display_data"
    },
    {
     "data": {
      "application/vnd.jupyter.widget-view+json": {
       "model_id": "07b3615a44294b8c82747bcff7bf3958",
       "version_major": 2,
       "version_minor": 0
      },
      "text/plain": [
       "Saving the dataset (0/1 shards):   0%|          | 0/650000 [00:00<?, ? examples/s]"
      ]
     },
     "metadata": {},
     "output_type": "display_data"
    },
    {
     "data": {
      "application/vnd.jupyter.widget-view+json": {
       "model_id": "7e3815b65b9949fea18296e1726ab4b5",
       "version_major": 2,
       "version_minor": 0
      },
      "text/plain": [
       "Saving the dataset (0/1 shards):   0%|          | 0/50000 [00:00<?, ? examples/s]"
      ]
     },
     "metadata": {},
     "output_type": "display_data"
    }
   ],
   "source": [
    "clean_train = Dataset.from_pandas(clean_train_df)\n",
    "clean_test = Dataset.from_pandas(clean_test_df)\n",
    "\n",
    "cleaned_ds = DatasetDict(\n",
    "    {\n",
    "        'train': clean_train,\n",
    "        'test': clean_test\n",
    "    }\n",
    ")\n",
    "\n",
    "stem_train = Dataset.from_pandas(stem_train_df)\n",
    "stem_test = Dataset.from_pandas(stem_test_df)\n",
    "\n",
    "stem_ds = DatasetDict(\n",
    "    {\n",
    "        'train': stem_train,\n",
    "        'test': stem_test\n",
    "    }\n",
    ")\n",
    "\n",
    "lemm_train = Dataset.from_pandas(lemm_train_df)\n",
    "lemm_test = Dataset.from_pandas(lemm_test_df)\n",
    "\n",
    "lemm_ds = DatasetDict(\n",
    "    {\n",
    "        'train': lemm_train,\n",
    "        'test': lemm_test\n",
    "    }\n",
    ")\n",
    "cleaned_ds.save_to_disk(\"../data/clean_dataset\")\n",
    "stem_ds.save_to_disk(\"../data/stem_dataset\")\n",
    "lemm_ds.save_to_disk(\"../data/lemma_dataset\")"
   ]
  }
 ],
 "metadata": {
  "kernelspec": {
   "display_name": "test_env",
   "language": "python",
   "name": "python3"
  },
  "language_info": {
   "codemirror_mode": {
    "name": "ipython",
    "version": 3
   },
   "file_extension": ".py",
   "mimetype": "text/x-python",
   "name": "python",
   "nbconvert_exporter": "python",
   "pygments_lexer": "ipython3",
   "version": "3.9.20"
  }
 },
 "nbformat": 4,
 "nbformat_minor": 2
}
