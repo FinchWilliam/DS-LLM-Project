{
 "cells": [
  {
   "cell_type": "markdown",
   "metadata": {},
   "source": [
    "### Lets load all of our Libraries"
   ]
  },
  {
   "cell_type": "code",
   "execution_count": null,
   "metadata": {
    "colab": {
     "base_uri": "https://localhost:8080/"
    },
    "executionInfo": {
     "elapsed": 2718,
     "status": "ok",
     "timestamp": 1741669766807,
     "user": {
      "displayName": "William Finch",
      "userId": "14572932914219799925"
     },
     "user_tz": 420
    },
    "id": "EBWuJOk8Zf6R",
    "outputId": "5e021aa9-7fc9-4135-af1c-3e3e227de9bc"
   },
   "outputs": [],
   "source": [
    "from datasets import load_dataset, Dataset\n",
    "import pandas as pd\n",
    "import numpy as np\n",
    "import pickle\n",
    "\n",
    "#our machine learning functions\n",
    "from sklearn.feature_extraction.text import TfidfVectorizer, CountVectorizer\n",
    "import scipy.sparse as sp\n",
    "from sklearn.linear_model import LogisticRegression\n",
    "from sklearn.ensemble import RandomForestClassifier\n",
    "import xgboost as xgb\n",
    "\n",
    "#our neural network functions\n",
    "import torch\n",
    "import torch.nn as nn\n",
    "import torch.optim as optim\n",
    "from torch.utils.data import DataLoader, TensorDataset\n",
    "\n",
    "#our custom functions\n",
    "import homemade_functions as hf\n",
    "\n",
    "#our graphing functions\n",
    "import seaborn as sns\n",
    "import plotly.graph_objects as go\n",
    "import matplotlib.pyplot as plt"
   ]
  },
  {
   "cell_type": "markdown",
   "metadata": {},
   "source": [
    "### Load up our pre-processed data\n",
    " - Choosing to run our You can choose which dataset to run through, I ran the clean set on this visual"
   ]
  },
  {
   "cell_type": "code",
   "execution_count": null,
   "metadata": {
    "executionInfo": {
     "elapsed": 14046,
     "status": "ok",
     "timestamp": 1741644187152,
     "user": {
      "displayName": "William Finch",
      "userId": "14572932914219799925"
     },
     "user_tz": 420
    },
    "id": "xmaoaXG1Zf6R"
   },
   "outputs": [],
   "source": [
    "file_path = \"../../data/\" \n",
    "# choice_of_dataset = \"lemma_dataset\" #Pick one leave the other two commented out.\n",
    "choice_of_dataset = \"clean_dataset\"\n",
    "# choice_of_dataset = \"stem_dataset\"\n",
    "ds_train = Dataset.load_from_disk(f\"{file_path}{choice_of_dataset}/train\")\n",
    "ds_test = Dataset.load_from_disk(f\"{file_path}{choice_of_dataset}/test\")"
   ]
  },
  {
   "cell_type": "code",
   "execution_count": null,
   "metadata": {
    "colab": {
     "base_uri": "https://localhost:8080/",
     "height": 831
    },
    "executionInfo": {
     "elapsed": 80765,
     "status": "ok",
     "timestamp": 1741644267919,
     "user": {
      "displayName": "William Finch",
      "userId": "14572932914219799925"
     },
     "user_tz": 420
    },
    "id": "J-YMJu3iZf6S",
    "outputId": "ffc30dd7-8141-4924-86b2-43196b0af124"
   },
   "outputs": [
    {
     "data": {
      "application/vnd.microsoft.datawrangler.viewer.v0+json": {
       "columns": [
        {
         "name": "index",
         "rawType": "int64",
         "type": "integer"
        },
        {
         "name": "label",
         "rawType": "int64",
         "type": "integer"
        },
        {
         "name": "text",
         "rawType": "object",
         "type": "unknown"
        }
       ],
       "conversionMethod": "pd.DataFrame",
       "ref": "24851000-6935-42cc-a0f4-3d5c427ec466",
       "rows": [
        [
         "0",
         "0",
         "['got', 'new', 'tires', 'within', 'two', 'weeks', 'got', 'flat', 'took', 'car', 'local', 'mechanic', 'see', 'could', 'get', 'hole', 'patched', 'said', 'reason', 'flat', 'previous', 'patch', 'blown', 'wait', 'got', 'tire', 'never', 'needed', 'patched', 'supposed', 'new', 'tire', 'ni', 'took', 'tire', 'flynns', 'told', 'someone', 'punctured', 'tire', 'tried', 'patch', 'resentful', 'tire', 'slashers', 'find', 'unlikely', 'arguing', 'guy', 'telling', 'logic', 'far', 'fetched', 'said', 'hed', 'give', 'new', 'tire', 'time', 'ni', 'never', 'go', 'back', 'flynns', 'bc', 'way', 'guy', 'treated', 'simple', 'fact', 'gave', 'used', 'tire']"
        ],
        [
         "1",
         "0",
         "['dont', 'waste', 'time', 'two', 'different', 'people', 'come', 'house', 'give', 'us', 'estimates', 'deck', 'one', 'owner', 'times', 'never', 'heard', 'call', 'estimate', 'nothing']"
        ],
        [
         "2",
         "0",
         "['say', 'worst', '2', 'people', 'place', 'lunch', 'place', 'freezing', 'loaded', 'kids', 'toys', '2', 'bicycles', 'scooter', 'electronic', 'keyboard', 'graced', 'dining', 'room', 'fish', 'tank', 'filthy', 'slimy', 'fingerprints', 'smeared', 'enjoymentnnour', 'food', 'came', 'water', 'drink', 'tea', 'medium', 'temperature', 'food', 'course', 'cold', 'like', 'room', 'never', 'took', 'jacket', 'plates', 'small', 'food', 'spills', 'onto', 'semiclean', 'tables', 'sit', 'completely', 'worn', 'booth', 'seat', 'fried', 'noodles', 'box', 'nasty', 'shrimp', 'mushy', 'fried', 'rice', 'bright', 'yellownnwe', 'asked', 'water', 'brought', 'us', '1', 'solo', 'cup', '2', 'people', 'asked', 'hot', 'tea', 'said', '10', 'minutes', 'chinese', 'restaurant', 'hot', 'tea', 'available', 'upon', 'requestnnover', 'first', 'last', 'visit', 'place', 'good', 'point', 'cheap', 'deservingly']"
        ],
        [
         "3",
         "0",
         "['restaurant', 'twice', 'disappointed', 'times', 'wont', 'go', 'back', 'first', 'time', 'almost', '3', 'hours', 'took', 'forever', 'order', 'forever', 'food', 'come', 'place', 'empty', 'complained', 'manager', 'rude', 'tried', 'blame', 'us', 'taking', 'long', 'order', 'made', 'sense', 'could', 'order', 'waitress', 'wasnt', 'coming', 'table', 'arguing', 'ended', 'taking', '6', '200', 'bill', 'ridiculous', 'would', 'never', 'returned', 'unfortunately', 'family', 'decided', 'go', 'tonight', 'took', 'long', 'time', 'get', 'food', 'food', 'cold', 'bland', 'kids', 'food', 'cold', 'husbands', 'salmon', 'burnt', 'crisp', 'sister', 'law', 'took', 'one', 'bite', 'trout', 'refused', 'eat', 'claims', 'disgusting', 'wedding', 'soup', 'bread', 'good', 'thats', 'drink', 'sat', 'empty', 'throughout', 'meal', 'never', 'got', 'refilled', 'even', 'asked', 'bad', 'food', 'slow', 'service', 'rude', 'managers', 'ill', 'pass', 'place', 'family', 'decides', 'go', 'worth', 'good', 'italian', 'options', 'around']"
        ],
        [
         "4",
         "0",
         "['food', 'good', 'husband', 'ate', 'couple', 'weeks', 'ago', 'first', 'time', 'ordered', 'salad', 'basil', 'pesto', 'cream', 'pasta', 'husband', 'ordered', 'spinach', 'feta', 'pasta', 'salad', 'huge', 'plate', 'spring', 'mix', 'nothing', 'else', 'way', 'much', 'vinegar', 'dressing', 'lettuce', 'drowning', 'vinegar', 'pesto', 'pasta', 'flavor', 'taste', 'like', 'cream', 'sauce', 'pesto', 'runnywatery', 'way', 'much', 'sauce', 'enough', 'noodles', 'husbands', 'pasta', 'even', 'less', 'flavor', 'mine', 'ate', 'quarter', 'food', 'couldnt', 'even', 'finish', 'took', 'home', 'bad', 'didnt', 'even', 'eat', 'leftovers', 'hate', 'wasting', 'food', 'plus', 'prices', 'expensive', 'amount', 'food', 'get', 'course', 'poor', 'quality', 'dont', 'waste', 'time', 'eating', 'much', 'better', 'italian', 'restaurants', 'pittsburgh']"
        ]
       ],
       "shape": {
        "columns": 2,
        "rows": 5
       }
      },
      "text/html": [
       "<div>\n",
       "<style scoped>\n",
       "    .dataframe tbody tr th:only-of-type {\n",
       "        vertical-align: middle;\n",
       "    }\n",
       "\n",
       "    .dataframe tbody tr th {\n",
       "        vertical-align: top;\n",
       "    }\n",
       "\n",
       "    .dataframe thead th {\n",
       "        text-align: right;\n",
       "    }\n",
       "</style>\n",
       "<table border=\"1\" class=\"dataframe\">\n",
       "  <thead>\n",
       "    <tr style=\"text-align: right;\">\n",
       "      <th></th>\n",
       "      <th>label</th>\n",
       "      <th>text</th>\n",
       "    </tr>\n",
       "  </thead>\n",
       "  <tbody>\n",
       "    <tr>\n",
       "      <th>0</th>\n",
       "      <td>0</td>\n",
       "      <td>[got, new, tires, within, two, weeks, got, fla...</td>\n",
       "    </tr>\n",
       "    <tr>\n",
       "      <th>1</th>\n",
       "      <td>0</td>\n",
       "      <td>[dont, waste, time, two, different, people, co...</td>\n",
       "    </tr>\n",
       "    <tr>\n",
       "      <th>2</th>\n",
       "      <td>0</td>\n",
       "      <td>[say, worst, 2, people, place, lunch, place, f...</td>\n",
       "    </tr>\n",
       "    <tr>\n",
       "      <th>3</th>\n",
       "      <td>0</td>\n",
       "      <td>[restaurant, twice, disappointed, times, wont,...</td>\n",
       "    </tr>\n",
       "    <tr>\n",
       "      <th>4</th>\n",
       "      <td>0</td>\n",
       "      <td>[food, good, husband, ate, couple, weeks, ago,...</td>\n",
       "    </tr>\n",
       "  </tbody>\n",
       "</table>\n",
       "</div>"
      ],
      "text/plain": [
       "   label                                               text\n",
       "0      0  [got, new, tires, within, two, weeks, got, fla...\n",
       "1      0  [dont, waste, time, two, different, people, co...\n",
       "2      0  [say, worst, 2, people, place, lunch, place, f...\n",
       "3      0  [restaurant, twice, disappointed, times, wont,...\n",
       "4      0  [food, good, husband, ate, couple, weeks, ago,..."
      ]
     },
     "metadata": {},
     "output_type": "display_data"
    },
    {
     "data": {
      "application/vnd.microsoft.datawrangler.viewer.v0+json": {
       "columns": [
        {
         "name": "index",
         "rawType": "int64",
         "type": "integer"
        },
        {
         "name": "label",
         "rawType": "int64",
         "type": "integer"
        },
        {
         "name": "text",
         "rawType": "object",
         "type": "unknown"
        }
       ],
       "conversionMethod": "pd.DataFrame",
       "ref": "241e7504-c4ff-409c-a6df-90e24bfae8f0",
       "rows": [
        [
         "0",
         "2",
         "['dr', 'goldberg', 'offers', 'everything', 'look', 'general', 'practitioner', 'hes', 'nice', 'easy', 'talk', 'without', 'patronizing', 'hes', 'always', 'time', 'seeing', 'patients', 'hes', 'affiliated', 'topnotch', 'hospital', 'nyu', 'parents', 'explained', 'important', 'case', 'something', 'happens', 'need', 'surgery', 'get', 'referrals', 'see', 'specialists', 'without', 'see', 'first', 'really', 'need', 'im', 'sitting', 'trying', 'think', 'complaints', 'im', 'really', 'drawing', 'blank']"
        ],
        [
         "1",
         "0",
         "['unfortunately', 'frustration', 'dr', 'goldbergs', 'patient', 'repeat', 'experience', 'ive', 'many', 'doctors', 'nyc', 'good', 'doctor', 'terrible', 'staff', 'seems', 'staff', 'simply', 'never', 'answers', 'phone', 'usually', 'takes', '2', 'hours', 'repeated', 'calling', 'get', 'answer', 'time', 'wants', 'deal', 'run', 'problem', 'many', 'doctors', 'dont', 'get', 'office', 'workers', 'patients', 'medical', 'needs', 'isnt', 'anyone', 'answering', 'phone', 'incomprehensible', 'work', 'aggravation', 'regret', 'feel', 'give', 'dr', 'goldberg', '2', 'stars']"
        ],
        [
         "2",
         "2",
         "['going', 'dr', 'goldberg', '10', 'years', 'think', 'one', '1st', 'patients', 'started', 'mhmg', 'hes', 'great', 'years', 'really', 'big', 'picture', 'former', 'gyn', 'dr', 'markoff', 'found', 'fibroids', 'explores', 'options', 'patient', 'understanding', 'doesnt', 'judge', 'asks', 'right', 'questions', 'thorough', 'wants', 'kept', 'loop', 'every', 'aspect', 'medical', 'health', 'life']"
        ],
        [
         "3",
         "2",
         "['got', 'letter', 'mail', 'last', 'week', 'said', 'dr', 'goldberg', 'moving', 'arizona', 'take', 'new', 'position', 'june', 'missed', 'much', 'nni', 'think', 'finding', 'new', 'doctor', 'nyc', 'actually', 'like', 'might', 'almost', 'awful', 'trying', 'find', 'date']"
        ],
        [
         "4",
         "0",
         "['dont', 'know', 'dr', 'goldberg', 'like', 'moving', 'arizona', 'let', 'tell', 'stay', 'away', 'doctor', 'office', 'going', 'dr', 'johnson', 'left', 'goldberg', 'took', 'johnson', 'left', 'caring', 'doctor', 'interested', 'copay', 'come', 'medication', 'refills', 'every', 'month', 'give', 'refills', 'could', 'less', 'patientss', 'financial', 'situations', 'trying', 'get', '90', 'days', 'mail', 'away', 'pharmacy', 'prescriptions', 'guy', 'joke', 'make', 'matters', 'even', 'worse', 'office', 'staff', 'incompetent', '90', 'time', 'call', 'office', 'theyll', 'put', 'voice', 'mail', 'one', 'ever', 'answers', 'returns', 'call', 'adult', 'children', 'husband', 'decided', 'leave', 'practice', 'experiencing', 'frustration', 'entire', 'office', 'attitude', 'like', 'favor', 'give', 'break', 'stay', 'away', 'doc', 'practice', 'deserve', 'better', 'really', 'need', 'never', 'felt', 'compelled', 'write', 'bad', 'review', 'anyone', 'met', 'pathetic', 'excuse', 'doctor', 'money']"
        ]
       ],
       "shape": {
        "columns": 2,
        "rows": 5
       }
      },
      "text/html": [
       "<div>\n",
       "<style scoped>\n",
       "    .dataframe tbody tr th:only-of-type {\n",
       "        vertical-align: middle;\n",
       "    }\n",
       "\n",
       "    .dataframe tbody tr th {\n",
       "        vertical-align: top;\n",
       "    }\n",
       "\n",
       "    .dataframe thead th {\n",
       "        text-align: right;\n",
       "    }\n",
       "</style>\n",
       "<table border=\"1\" class=\"dataframe\">\n",
       "  <thead>\n",
       "    <tr style=\"text-align: right;\">\n",
       "      <th></th>\n",
       "      <th>label</th>\n",
       "      <th>text</th>\n",
       "    </tr>\n",
       "  </thead>\n",
       "  <tbody>\n",
       "    <tr>\n",
       "      <th>0</th>\n",
       "      <td>2</td>\n",
       "      <td>[dr, goldberg, offers, everything, look, gener...</td>\n",
       "    </tr>\n",
       "    <tr>\n",
       "      <th>1</th>\n",
       "      <td>0</td>\n",
       "      <td>[unfortunately, frustration, dr, goldbergs, pa...</td>\n",
       "    </tr>\n",
       "    <tr>\n",
       "      <th>2</th>\n",
       "      <td>2</td>\n",
       "      <td>[going, dr, goldberg, 10, years, think, one, 1...</td>\n",
       "    </tr>\n",
       "    <tr>\n",
       "      <th>3</th>\n",
       "      <td>2</td>\n",
       "      <td>[got, letter, mail, last, week, said, dr, gold...</td>\n",
       "    </tr>\n",
       "    <tr>\n",
       "      <th>4</th>\n",
       "      <td>0</td>\n",
       "      <td>[dont, know, dr, goldberg, like, moving, arizo...</td>\n",
       "    </tr>\n",
       "  </tbody>\n",
       "</table>\n",
       "</div>"
      ],
      "text/plain": [
       "   label                                               text\n",
       "0      2  [dr, goldberg, offers, everything, look, gener...\n",
       "1      0  [unfortunately, frustration, dr, goldbergs, pa...\n",
       "2      2  [going, dr, goldberg, 10, years, think, one, 1...\n",
       "3      2  [got, letter, mail, last, week, said, dr, gold...\n",
       "4      0  [dont, know, dr, goldberg, like, moving, arizo..."
      ]
     },
     "execution_count": 173,
     "metadata": {},
     "output_type": "execute_result"
    }
   ],
   "source": [
    "df_test = pd.DataFrame(data=ds_test)\n",
    "df_train = pd.DataFrame(data=ds_train)\n",
    "display(df_test.head())\n",
    "df_train.head()"
   ]
  },
  {
   "cell_type": "markdown",
   "metadata": {},
   "source": [
    "For interest sake we will see how many unique words we still have in the dataset (train, test) and how many we have that are in one but not the other"
   ]
  },
  {
   "cell_type": "code",
   "execution_count": 174,
   "metadata": {
    "colab": {
     "base_uri": "https://localhost:8080/"
    },
    "executionInfo": {
     "elapsed": 8083,
     "status": "ok",
     "timestamp": 1741644276004,
     "user": {
      "displayName": "William Finch",
      "userId": "14572932914219799925"
     },
     "user_tz": 420
    },
    "id": "d77qgfbLZf6S",
    "outputId": "27fe4d45-df2a-4868-f4a4-b8e32f833722"
   },
   "outputs": [
    {
     "name": "stdout",
     "output_type": "stream",
     "text": [
      "There are 836750 unique words in the Train dataset\n",
      "There are 135881 unique words in the Test dataset\n",
      "There are 792815 words that only appear in one dataset\n",
      "There are 45973 that appear in the Test set but not the Train set\n"
     ]
    }
   ],
   "source": [
    "unique_words_train = hf.word_count(df_train['text'])\n",
    "unique_words_test = hf.word_count(df_test['text'])\n",
    "difference = unique_words_train ^ unique_words_test\n",
    "print(f\"There are {len(unique_words_train)} unique words in the Train dataset\")\n",
    "print(f\"There are {len(unique_words_test)} unique words in the Test dataset\")\n",
    "print(f\"There are {len(difference)} words that only appear in one dataset\")\n",
    "print(f\"There are {len(unique_words_test - unique_words_train)} that appear in the Test set but not the Train set\")"
   ]
  },
  {
   "cell_type": "markdown",
   "metadata": {
    "id": "QLGEshP_Zf6U"
   },
   "source": [
    "## Lets get started on TF-IDF\n",
    " - we need to revert everything to strings not tokens for this"
   ]
  },
  {
   "cell_type": "code",
   "execution_count": null,
   "metadata": {
    "colab": {
     "base_uri": "https://localhost:8080/",
     "height": 395
    },
    "executionInfo": {
     "elapsed": 2360,
     "status": "ok",
     "timestamp": 1741644279112,
     "user": {
      "displayName": "William Finch",
      "userId": "14572932914219799925"
     },
     "user_tz": 420
    },
    "id": "NquLRrFkZf6V",
    "outputId": "0570a6ca-6217-4e08-feda-e9989029b531"
   },
   "outputs": [
    {
     "data": {
      "application/vnd.microsoft.datawrangler.viewer.v0+json": {
       "columns": [
        {
         "name": "index",
         "rawType": "int64",
         "type": "integer"
        },
        {
         "name": "label",
         "rawType": "int64",
         "type": "integer"
        },
        {
         "name": "text",
         "rawType": "object",
         "type": "unknown"
        },
        {
         "name": "text_string",
         "rawType": "object",
         "type": "string"
        }
       ],
       "conversionMethod": "pd.DataFrame",
       "ref": "a2907190-8634-44da-9ebb-69d89d5eed05",
       "rows": [
        [
         "0",
         "0",
         "['got', 'new', 'tires', 'within', 'two', 'weeks', 'got', 'flat', 'took', 'car', 'local', 'mechanic', 'see', 'could', 'get', 'hole', 'patched', 'said', 'reason', 'flat', 'previous', 'patch', 'blown', 'wait', 'got', 'tire', 'never', 'needed', 'patched', 'supposed', 'new', 'tire', 'ni', 'took', 'tire', 'flynns', 'told', 'someone', 'punctured', 'tire', 'tried', 'patch', 'resentful', 'tire', 'slashers', 'find', 'unlikely', 'arguing', 'guy', 'telling', 'logic', 'far', 'fetched', 'said', 'hed', 'give', 'new', 'tire', 'time', 'ni', 'never', 'go', 'back', 'flynns', 'bc', 'way', 'guy', 'treated', 'simple', 'fact', 'gave', 'used', 'tire']",
         "got new tires within two weeks got flat took car local mechanic see could get hole patched said reason flat previous patch blown wait got tire never needed patched supposed new tire ni took tire flynns told someone punctured tire tried patch resentful tire slashers find unlikely arguing guy telling logic far fetched said hed give new tire time ni never go back flynns bc way guy treated simple fact gave used tire"
        ],
        [
         "1",
         "0",
         "['dont', 'waste', 'time', 'two', 'different', 'people', 'come', 'house', 'give', 'us', 'estimates', 'deck', 'one', 'owner', 'times', 'never', 'heard', 'call', 'estimate', 'nothing']",
         "dont waste time two different people come house give us estimates deck one owner times never heard call estimate nothing"
        ],
        [
         "2",
         "0",
         "['say', 'worst', '2', 'people', 'place', 'lunch', 'place', 'freezing', 'loaded', 'kids', 'toys', '2', 'bicycles', 'scooter', 'electronic', 'keyboard', 'graced', 'dining', 'room', 'fish', 'tank', 'filthy', 'slimy', 'fingerprints', 'smeared', 'enjoymentnnour', 'food', 'came', 'water', 'drink', 'tea', 'medium', 'temperature', 'food', 'course', 'cold', 'like', 'room', 'never', 'took', 'jacket', 'plates', 'small', 'food', 'spills', 'onto', 'semiclean', 'tables', 'sit', 'completely', 'worn', 'booth', 'seat', 'fried', 'noodles', 'box', 'nasty', 'shrimp', 'mushy', 'fried', 'rice', 'bright', 'yellownnwe', 'asked', 'water', 'brought', 'us', '1', 'solo', 'cup', '2', 'people', 'asked', 'hot', 'tea', 'said', '10', 'minutes', 'chinese', 'restaurant', 'hot', 'tea', 'available', 'upon', 'requestnnover', 'first', 'last', 'visit', 'place', 'good', 'point', 'cheap', 'deservingly']",
         "say worst 2 people place lunch place freezing loaded kids toys 2 bicycles scooter electronic keyboard graced dining room fish tank filthy slimy fingerprints smeared enjoymentnnour food came water drink tea medium temperature food course cold like room never took jacket plates small food spills onto semiclean tables sit completely worn booth seat fried noodles box nasty shrimp mushy fried rice bright yellownnwe asked water brought us 1 solo cup 2 people asked hot tea said 10 minutes chinese restaurant hot tea available upon requestnnover first last visit place good point cheap deservingly"
        ],
        [
         "3",
         "0",
         "['restaurant', 'twice', 'disappointed', 'times', 'wont', 'go', 'back', 'first', 'time', 'almost', '3', 'hours', 'took', 'forever', 'order', 'forever', 'food', 'come', 'place', 'empty', 'complained', 'manager', 'rude', 'tried', 'blame', 'us', 'taking', 'long', 'order', 'made', 'sense', 'could', 'order', 'waitress', 'wasnt', 'coming', 'table', 'arguing', 'ended', 'taking', '6', '200', 'bill', 'ridiculous', 'would', 'never', 'returned', 'unfortunately', 'family', 'decided', 'go', 'tonight', 'took', 'long', 'time', 'get', 'food', 'food', 'cold', 'bland', 'kids', 'food', 'cold', 'husbands', 'salmon', 'burnt', 'crisp', 'sister', 'law', 'took', 'one', 'bite', 'trout', 'refused', 'eat', 'claims', 'disgusting', 'wedding', 'soup', 'bread', 'good', 'thats', 'drink', 'sat', 'empty', 'throughout', 'meal', 'never', 'got', 'refilled', 'even', 'asked', 'bad', 'food', 'slow', 'service', 'rude', 'managers', 'ill', 'pass', 'place', 'family', 'decides', 'go', 'worth', 'good', 'italian', 'options', 'around']",
         "restaurant twice disappointed times wont go back first time almost 3 hours took forever order forever food come place empty complained manager rude tried blame us taking long order made sense could order waitress wasnt coming table arguing ended taking 6 200 bill ridiculous would never returned unfortunately family decided go tonight took long time get food food cold bland kids food cold husbands salmon burnt crisp sister law took one bite trout refused eat claims disgusting wedding soup bread good thats drink sat empty throughout meal never got refilled even asked bad food slow service rude managers ill pass place family decides go worth good italian options around"
        ],
        [
         "4",
         "0",
         "['food', 'good', 'husband', 'ate', 'couple', 'weeks', 'ago', 'first', 'time', 'ordered', 'salad', 'basil', 'pesto', 'cream', 'pasta', 'husband', 'ordered', 'spinach', 'feta', 'pasta', 'salad', 'huge', 'plate', 'spring', 'mix', 'nothing', 'else', 'way', 'much', 'vinegar', 'dressing', 'lettuce', 'drowning', 'vinegar', 'pesto', 'pasta', 'flavor', 'taste', 'like', 'cream', 'sauce', 'pesto', 'runnywatery', 'way', 'much', 'sauce', 'enough', 'noodles', 'husbands', 'pasta', 'even', 'less', 'flavor', 'mine', 'ate', 'quarter', 'food', 'couldnt', 'even', 'finish', 'took', 'home', 'bad', 'didnt', 'even', 'eat', 'leftovers', 'hate', 'wasting', 'food', 'plus', 'prices', 'expensive', 'amount', 'food', 'get', 'course', 'poor', 'quality', 'dont', 'waste', 'time', 'eating', 'much', 'better', 'italian', 'restaurants', 'pittsburgh']",
         "food good husband ate couple weeks ago first time ordered salad basil pesto cream pasta husband ordered spinach feta pasta salad huge plate spring mix nothing else way much vinegar dressing lettuce drowning vinegar pesto pasta flavor taste like cream sauce pesto runnywatery way much sauce enough noodles husbands pasta even less flavor mine ate quarter food couldnt even finish took home bad didnt even eat leftovers hate wasting food plus prices expensive amount food get course poor quality dont waste time eating much better italian restaurants pittsburgh"
        ]
       ],
       "shape": {
        "columns": 3,
        "rows": 5
       }
      },
      "text/html": [
       "<div>\n",
       "<style scoped>\n",
       "    .dataframe tbody tr th:only-of-type {\n",
       "        vertical-align: middle;\n",
       "    }\n",
       "\n",
       "    .dataframe tbody tr th {\n",
       "        vertical-align: top;\n",
       "    }\n",
       "\n",
       "    .dataframe thead th {\n",
       "        text-align: right;\n",
       "    }\n",
       "</style>\n",
       "<table border=\"1\" class=\"dataframe\">\n",
       "  <thead>\n",
       "    <tr style=\"text-align: right;\">\n",
       "      <th></th>\n",
       "      <th>label</th>\n",
       "      <th>text</th>\n",
       "      <th>text_string</th>\n",
       "    </tr>\n",
       "  </thead>\n",
       "  <tbody>\n",
       "    <tr>\n",
       "      <th>0</th>\n",
       "      <td>0</td>\n",
       "      <td>[got, new, tires, within, two, weeks, got, fla...</td>\n",
       "      <td>got new tires within two weeks got flat took c...</td>\n",
       "    </tr>\n",
       "    <tr>\n",
       "      <th>1</th>\n",
       "      <td>0</td>\n",
       "      <td>[dont, waste, time, two, different, people, co...</td>\n",
       "      <td>dont waste time two different people come hous...</td>\n",
       "    </tr>\n",
       "    <tr>\n",
       "      <th>2</th>\n",
       "      <td>0</td>\n",
       "      <td>[say, worst, 2, people, place, lunch, place, f...</td>\n",
       "      <td>say worst 2 people place lunch place freezing ...</td>\n",
       "    </tr>\n",
       "    <tr>\n",
       "      <th>3</th>\n",
       "      <td>0</td>\n",
       "      <td>[restaurant, twice, disappointed, times, wont,...</td>\n",
       "      <td>restaurant twice disappointed times wont go ba...</td>\n",
       "    </tr>\n",
       "    <tr>\n",
       "      <th>4</th>\n",
       "      <td>0</td>\n",
       "      <td>[food, good, husband, ate, couple, weeks, ago,...</td>\n",
       "      <td>food good husband ate couple weeks ago first t...</td>\n",
       "    </tr>\n",
       "  </tbody>\n",
       "</table>\n",
       "</div>"
      ],
      "text/plain": [
       "   label                                               text  \\\n",
       "0      0  [got, new, tires, within, two, weeks, got, fla...   \n",
       "1      0  [dont, waste, time, two, different, people, co...   \n",
       "2      0  [say, worst, 2, people, place, lunch, place, f...   \n",
       "3      0  [restaurant, twice, disappointed, times, wont,...   \n",
       "4      0  [food, good, husband, ate, couple, weeks, ago,...   \n",
       "\n",
       "                                         text_string  \n",
       "0  got new tires within two weeks got flat took c...  \n",
       "1  dont waste time two different people come hous...  \n",
       "2  say worst 2 people place lunch place freezing ...  \n",
       "3  restaurant twice disappointed times wont go ba...  \n",
       "4  food good husband ate couple weeks ago first t...  "
      ]
     },
     "metadata": {},
     "output_type": "display_data"
    },
    {
     "data": {
      "application/vnd.microsoft.datawrangler.viewer.v0+json": {
       "columns": [
        {
         "name": "index",
         "rawType": "int64",
         "type": "integer"
        },
        {
         "name": "label",
         "rawType": "int64",
         "type": "integer"
        },
        {
         "name": "text",
         "rawType": "object",
         "type": "unknown"
        },
        {
         "name": "text_string",
         "rawType": "object",
         "type": "string"
        }
       ],
       "conversionMethod": "pd.DataFrame",
       "ref": "9205b353-4a55-41c5-95f4-8516386f9b13",
       "rows": [
        [
         "0",
         "2",
         "['dr', 'goldberg', 'offers', 'everything', 'look', 'general', 'practitioner', 'hes', 'nice', 'easy', 'talk', 'without', 'patronizing', 'hes', 'always', 'time', 'seeing', 'patients', 'hes', 'affiliated', 'topnotch', 'hospital', 'nyu', 'parents', 'explained', 'important', 'case', 'something', 'happens', 'need', 'surgery', 'get', 'referrals', 'see', 'specialists', 'without', 'see', 'first', 'really', 'need', 'im', 'sitting', 'trying', 'think', 'complaints', 'im', 'really', 'drawing', 'blank']",
         "dr goldberg offers everything look general practitioner hes nice easy talk without patronizing hes always time seeing patients hes affiliated topnotch hospital nyu parents explained important case something happens need surgery get referrals see specialists without see first really need im sitting trying think complaints im really drawing blank"
        ],
        [
         "1",
         "0",
         "['unfortunately', 'frustration', 'dr', 'goldbergs', 'patient', 'repeat', 'experience', 'ive', 'many', 'doctors', 'nyc', 'good', 'doctor', 'terrible', 'staff', 'seems', 'staff', 'simply', 'never', 'answers', 'phone', 'usually', 'takes', '2', 'hours', 'repeated', 'calling', 'get', 'answer', 'time', 'wants', 'deal', 'run', 'problem', 'many', 'doctors', 'dont', 'get', 'office', 'workers', 'patients', 'medical', 'needs', 'isnt', 'anyone', 'answering', 'phone', 'incomprehensible', 'work', 'aggravation', 'regret', 'feel', 'give', 'dr', 'goldberg', '2', 'stars']",
         "unfortunately frustration dr goldbergs patient repeat experience ive many doctors nyc good doctor terrible staff seems staff simply never answers phone usually takes 2 hours repeated calling get answer time wants deal run problem many doctors dont get office workers patients medical needs isnt anyone answering phone incomprehensible work aggravation regret feel give dr goldberg 2 stars"
        ],
        [
         "2",
         "2",
         "['going', 'dr', 'goldberg', '10', 'years', 'think', 'one', '1st', 'patients', 'started', 'mhmg', 'hes', 'great', 'years', 'really', 'big', 'picture', 'former', 'gyn', 'dr', 'markoff', 'found', 'fibroids', 'explores', 'options', 'patient', 'understanding', 'doesnt', 'judge', 'asks', 'right', 'questions', 'thorough', 'wants', 'kept', 'loop', 'every', 'aspect', 'medical', 'health', 'life']",
         "going dr goldberg 10 years think one 1st patients started mhmg hes great years really big picture former gyn dr markoff found fibroids explores options patient understanding doesnt judge asks right questions thorough wants kept loop every aspect medical health life"
        ],
        [
         "3",
         "2",
         "['got', 'letter', 'mail', 'last', 'week', 'said', 'dr', 'goldberg', 'moving', 'arizona', 'take', 'new', 'position', 'june', 'missed', 'much', 'nni', 'think', 'finding', 'new', 'doctor', 'nyc', 'actually', 'like', 'might', 'almost', 'awful', 'trying', 'find', 'date']",
         "got letter mail last week said dr goldberg moving arizona take new position june missed much nni think finding new doctor nyc actually like might almost awful trying find date"
        ],
        [
         "4",
         "0",
         "['dont', 'know', 'dr', 'goldberg', 'like', 'moving', 'arizona', 'let', 'tell', 'stay', 'away', 'doctor', 'office', 'going', 'dr', 'johnson', 'left', 'goldberg', 'took', 'johnson', 'left', 'caring', 'doctor', 'interested', 'copay', 'come', 'medication', 'refills', 'every', 'month', 'give', 'refills', 'could', 'less', 'patientss', 'financial', 'situations', 'trying', 'get', '90', 'days', 'mail', 'away', 'pharmacy', 'prescriptions', 'guy', 'joke', 'make', 'matters', 'even', 'worse', 'office', 'staff', 'incompetent', '90', 'time', 'call', 'office', 'theyll', 'put', 'voice', 'mail', 'one', 'ever', 'answers', 'returns', 'call', 'adult', 'children', 'husband', 'decided', 'leave', 'practice', 'experiencing', 'frustration', 'entire', 'office', 'attitude', 'like', 'favor', 'give', 'break', 'stay', 'away', 'doc', 'practice', 'deserve', 'better', 'really', 'need', 'never', 'felt', 'compelled', 'write', 'bad', 'review', 'anyone', 'met', 'pathetic', 'excuse', 'doctor', 'money']",
         "dont know dr goldberg like moving arizona let tell stay away doctor office going dr johnson left goldberg took johnson left caring doctor interested copay come medication refills every month give refills could less patientss financial situations trying get 90 days mail away pharmacy prescriptions guy joke make matters even worse office staff incompetent 90 time call office theyll put voice mail one ever answers returns call adult children husband decided leave practice experiencing frustration entire office attitude like favor give break stay away doc practice deserve better really need never felt compelled write bad review anyone met pathetic excuse doctor money"
        ]
       ],
       "shape": {
        "columns": 3,
        "rows": 5
       }
      },
      "text/html": [
       "<div>\n",
       "<style scoped>\n",
       "    .dataframe tbody tr th:only-of-type {\n",
       "        vertical-align: middle;\n",
       "    }\n",
       "\n",
       "    .dataframe tbody tr th {\n",
       "        vertical-align: top;\n",
       "    }\n",
       "\n",
       "    .dataframe thead th {\n",
       "        text-align: right;\n",
       "    }\n",
       "</style>\n",
       "<table border=\"1\" class=\"dataframe\">\n",
       "  <thead>\n",
       "    <tr style=\"text-align: right;\">\n",
       "      <th></th>\n",
       "      <th>label</th>\n",
       "      <th>text</th>\n",
       "      <th>text_string</th>\n",
       "    </tr>\n",
       "  </thead>\n",
       "  <tbody>\n",
       "    <tr>\n",
       "      <th>0</th>\n",
       "      <td>2</td>\n",
       "      <td>[dr, goldberg, offers, everything, look, gener...</td>\n",
       "      <td>dr goldberg offers everything look general pra...</td>\n",
       "    </tr>\n",
       "    <tr>\n",
       "      <th>1</th>\n",
       "      <td>0</td>\n",
       "      <td>[unfortunately, frustration, dr, goldbergs, pa...</td>\n",
       "      <td>unfortunately frustration dr goldbergs patient...</td>\n",
       "    </tr>\n",
       "    <tr>\n",
       "      <th>2</th>\n",
       "      <td>2</td>\n",
       "      <td>[going, dr, goldberg, 10, years, think, one, 1...</td>\n",
       "      <td>going dr goldberg 10 years think one 1st patie...</td>\n",
       "    </tr>\n",
       "    <tr>\n",
       "      <th>3</th>\n",
       "      <td>2</td>\n",
       "      <td>[got, letter, mail, last, week, said, dr, gold...</td>\n",
       "      <td>got letter mail last week said dr goldberg mov...</td>\n",
       "    </tr>\n",
       "    <tr>\n",
       "      <th>4</th>\n",
       "      <td>0</td>\n",
       "      <td>[dont, know, dr, goldberg, like, moving, arizo...</td>\n",
       "      <td>dont know dr goldberg like moving arizona let ...</td>\n",
       "    </tr>\n",
       "  </tbody>\n",
       "</table>\n",
       "</div>"
      ],
      "text/plain": [
       "   label                                               text  \\\n",
       "0      2  [dr, goldberg, offers, everything, look, gener...   \n",
       "1      0  [unfortunately, frustration, dr, goldbergs, pa...   \n",
       "2      2  [going, dr, goldberg, 10, years, think, one, 1...   \n",
       "3      2  [got, letter, mail, last, week, said, dr, gold...   \n",
       "4      0  [dont, know, dr, goldberg, like, moving, arizo...   \n",
       "\n",
       "                                         text_string  \n",
       "0  dr goldberg offers everything look general pra...  \n",
       "1  unfortunately frustration dr goldbergs patient...  \n",
       "2  going dr goldberg 10 years think one 1st patie...  \n",
       "3  got letter mail last week said dr goldberg mov...  \n",
       "4  dont know dr goldberg like moving arizona let ...  "
      ]
     },
     "execution_count": 175,
     "metadata": {},
     "output_type": "execute_result"
    }
   ],
   "source": [
    "df_train['text_string'] = df_train['text'].apply(hf.string_it)\n",
    "df_test['text_string'] = df_test['text'].apply(hf.string_it)\n",
    "display(df_test.head())\n",
    "df_train.head()"
   ]
  },
  {
   "cell_type": "markdown",
   "metadata": {},
   "source": [
    "Have had issues with computing power so there is an option to reduce our sample size here (not limiting test set)"
   ]
  },
  {
   "cell_type": "code",
   "execution_count": null,
   "metadata": {},
   "outputs": [],
   "source": [
    "\n",
    "sample_size = df_train.shape[0] # how many rows of our train dataset we will use, leave at shape[0] for all\n",
    "max_features = 20000 # how many features we will use if BoW and TF-IDF\n",
    "\n",
    "#shuffle the dataframe as we are taking the top n number of rows and I do not want any organisation in that to bias the results\n",
    "df_train = df_train.sample(frac=1).reset_index(drop=True) \n",
    "\n",
    "#split my train test split\n",
    "X_train = df_train['text_string'].head(sample_size)\n",
    "X_test = df_test['text_string']\n",
    "y_train = df_train['label'].head(sample_size)\n",
    "y_test = df_test['label']\n"
   ]
  },
  {
   "cell_type": "markdown",
   "metadata": {},
   "source": [
    "### Lets run our TFIDF now"
   ]
  },
  {
   "cell_type": "code",
   "execution_count": 177,
   "metadata": {
    "collapsed": true,
    "executionInfo": {
     "elapsed": 13572,
     "status": "ok",
     "timestamp": 1741670991423,
     "user": {
      "displayName": "William Finch",
      "userId": "14572932914219799925"
     },
     "user_tz": 420
    },
    "id": "iYESoPOmZf6V"
   },
   "outputs": [],
   "source": [
    "tfidf_vect = TfidfVectorizer(\n",
    "    max_df=0.95,\n",
    "    max_features = max_features,\n",
    "    stop_words=None\n",
    ")\n",
    "\n",
    "#fit and transform the TFIDF\n",
    "tfidf_vect.fit(X_train)\n",
    "tfidf_train_matrix = tfidf_vect.transform(X_train)\n",
    "tfidf_test_matrix = tfidf_vect.transform(X_test)\n"
   ]
  },
  {
   "cell_type": "markdown",
   "metadata": {},
   "source": [
    "### Lets also do Bag of Words with count vectorizer"
   ]
  },
  {
   "cell_type": "code",
   "execution_count": 178,
   "metadata": {},
   "outputs": [],
   "source": [
    "bow_vect = CountVectorizer(max_features=max_features)\n",
    "\n",
    "#Fit and transform all the data for Bag of Words\n",
    "bow_vect.fit(X_train)\n",
    "bow_train_matrix = bow_vect.transform(X_train)\n",
    "bow_test_matrix = bow_vect.transform(X_test)"
   ]
  },
  {
   "cell_type": "markdown",
   "metadata": {},
   "source": [
    " - We can save both of those models for later use\n"
   ]
  },
  {
   "cell_type": "code",
   "execution_count": 179,
   "metadata": {},
   "outputs": [],
   "source": [
    "with open(f'{file_path}models/tfidf_vect.pkl', 'wb') as file:\n",
    "  pickle.dump(tfidf_vect, file)\n",
    "\n",
    "with open(f'{file_path}models/bow_vect.pkl', 'wb') as file:\n",
    "  pickle.dump(bow_vect, file)"
   ]
  },
  {
   "cell_type": "markdown",
   "metadata": {},
   "source": [
    "### Lets run Logistic Regression on both Bag of Words and TF-IDF"
   ]
  },
  {
   "cell_type": "code",
   "execution_count": 180,
   "metadata": {},
   "outputs": [],
   "source": [
    "bwLogistic_model = LogisticRegression(max_iter=10000)\n",
    "bwLogistic_model.fit(bow_train_matrix, y_train)\n",
    "\n",
    "bwlog_preds = bwLogistic_model.predict(bow_test_matrix)\n",
    "bw_log_metrics, bwlog_conf_matrix = hf.accuracy_scorer(y_test, bwlog_preds)\n",
    "confusion_matrices = [bwlog_conf_matrix]\n",
    "matrices_titles = ['BW_Logistic_Regression']"
   ]
  },
  {
   "cell_type": "code",
   "execution_count": 181,
   "metadata": {
    "colab": {
     "base_uri": "https://localhost:8080/"
    },
    "executionInfo": {
     "elapsed": 27810,
     "status": "ok",
     "timestamp": 1741671019267,
     "user": {
      "displayName": "William Finch",
      "userId": "14572932914219799925"
     },
     "user_tz": 420
    },
    "id": "poEo7tkznaQL",
    "outputId": "dc073575-5131-44c5-f5a3-b1a79d94850a"
   },
   "outputs": [],
   "source": [
    "tfLogistic_model = LogisticRegression(max_iter=10000)\n",
    "\n",
    "tfLogistic_model.fit(tfidf_train_matrix, y_train)\n",
    "tflog_preds = tfLogistic_model.predict(tfidf_test_matrix)\n",
    "tf_log_metrics, tflog_conf_matrix = hf.accuracy_scorer(y_test, tflog_preds)\n",
    "confusion_matrices.append(tflog_conf_matrix)\n",
    "matrices_titles.append(\"TF-IDF_Logistic_Regression\")"
   ]
  },
  {
   "cell_type": "code",
   "execution_count": 182,
   "metadata": {},
   "outputs": [],
   "source": [
    "complete_metrics = {\"BoW Logistic Regression\": bw_log_metrics,\n",
    "                    \"TF-IDF Logistic Regression\": tf_log_metrics}"
   ]
  },
  {
   "cell_type": "markdown",
   "metadata": {},
   "source": [
    " - lastly lets check and compare our metrics "
   ]
  },
  {
   "cell_type": "code",
   "execution_count": 183,
   "metadata": {},
   "outputs": [
    {
     "name": "stdout",
     "output_type": "stream",
     "text": [
      "Sample size:650000 and Max Features: 20000\n",
      "\n",
      "Logistic Regression Accuracy: \n",
      "TF-IDF: 0.77466 vs BoW: 0.76614\n",
      "\n",
      "Logistic Regression R2: \n",
      "TF-IDF: 0.56795 vs BoW: 0.5438000000000001\n",
      "\n",
      "Logistic Regression MSE:\n",
      "TF-IDF: 0.34564 vs BoW: 0.36496\n",
      "\n",
      "Logistic Regression Precision:\n",
      "TF-IDF: 0.7597871658188474 vs BoW: 0.7497300139740958\n",
      "\n",
      "Logistic Regression Recall:\n",
      "TF-IDF: 0.77466 vs BoW: 0.76614\n",
      "\n",
      "Logistic Regression F1 Score:\n",
      "TF-IDF: 0.7637877834307656 vs BoW: 0.7539176658213511\n",
      "\n",
      "Logistic Regressionn Confusion Matrix:\n",
      "TF-IDF:\n",
      "[[17389  1607  1004]\n",
      " [ 2968  3939  3093]\n",
      " [ 1001  1594 17405]]\n",
      "\n",
      "vs Bow Confusion Matrix\n",
      "[[17122  1676  1202]\n",
      " [ 3000  3700  3300]\n",
      " [  983  1532 17485]]\n"
     ]
    }
   ],
   "source": [
    "model_type = \"Logistic Regression\"\n",
    "\n",
    "print(f\"Sample size:{sample_size} and Max Features: {max_features}\")\n",
    "print(f\"\\n{model_type} Accuracy: \\nTF-IDF: {tf_log_metrics[0]} vs BoW: {bw_log_metrics[0]}\")\n",
    "print(f\"\\n{model_type} R2: \\nTF-IDF: {tf_log_metrics[1]} vs BoW: {bw_log_metrics[1]}\")\n",
    "print(f\"\\n{model_type} MSE:\\nTF-IDF: {tf_log_metrics[2]} vs BoW: {bw_log_metrics[2]}\")\n",
    "print(f\"\\n{model_type} Precision:\\nTF-IDF: {tf_log_metrics[3]} vs BoW: {bw_log_metrics[3]}\")\n",
    "print(f\"\\n{model_type} Recall:\\nTF-IDF: {tf_log_metrics[4]} vs BoW: {bw_log_metrics[4]}\")\n",
    "print(f\"\\n{model_type} F1 Score:\\nTF-IDF: {tf_log_metrics[5]} vs BoW: {bw_log_metrics[5]}\")\n",
    "print(f\"\\n{model_type}n Confusion Matrix:\\nTF-IDF:\")\n",
    "print(tflog_conf_matrix)\n",
    "print(\"\\nvs Bow Confusion Matrix\")\n",
    "print(bwlog_conf_matrix)"
   ]
  },
  {
   "cell_type": "markdown",
   "metadata": {},
   "source": [
    " - And save those for later use"
   ]
  },
  {
   "cell_type": "code",
   "execution_count": 184,
   "metadata": {},
   "outputs": [],
   "source": [
    "with open(f'{file_path}models/logisitic_model_tf_01.pkl', 'wb') as file:\n",
    "    pickle.dump(tfLogistic_model, file)\n",
    "\n",
    "with open(f'{file_path}models/logistic_model_bw_01.pkl', 'wb') as file:\n",
    "    pickle.dump(bwLogistic_model, file)"
   ]
  },
  {
   "cell_type": "markdown",
   "metadata": {},
   "source": [
    "### Lets try out Random Forest next"
   ]
  },
  {
   "cell_type": "code",
   "execution_count": 185,
   "metadata": {},
   "outputs": [],
   "source": [
    "bwRandomForest_model = RandomForestClassifier(n_estimators=100, max_depth=10)\n",
    "bwRandomForest_model.fit(bow_train_matrix, y_train)\n",
    "\n",
    "bwrf_preds = bwRandomForest_model.predict(bow_test_matrix)\n",
    "\n",
    "bw_RF_metrics, bwrf_conf_matrix = hf.accuracy_scorer(y_test, bwrf_preds)\n",
    "confusion_matrices.append(bwrf_conf_matrix)\n",
    "matrices_titles.append(\"BoW_RandomForest\")"
   ]
  },
  {
   "cell_type": "code",
   "execution_count": 186,
   "metadata": {
    "colab": {
     "base_uri": "https://localhost:8080/"
    },
    "executionInfo": {
     "elapsed": 7190,
     "status": "ok",
     "timestamp": 1741671026444,
     "user": {
      "displayName": "William Finch",
      "userId": "14572932914219799925"
     },
     "user_tz": 420
    },
    "id": "BXyhY8XaCbu-",
    "outputId": "846f5f14-ab0c-44b3-f390-0526c4936e9c"
   },
   "outputs": [],
   "source": [
    "tfRandomForest_model = RandomForestClassifier(n_estimators=100, max_depth=10)\n",
    "tfRandomForest_model.fit(tfidf_train_matrix, y_train)\n",
    "\n",
    "tfrf_preds = tfRandomForest_model.predict(tfidf_test_matrix)\n",
    "\n",
    "tf_RF_metrics, tfrf_conf_matrix = hf.accuracy_scorer(y_test, tfrf_preds)\n",
    "confusion_matrices.append(tfrf_conf_matrix)\n",
    "matrices_titles.append(\"TF-IDF_RandomForest\")\n",
    "complete_metrics.update({\"BoW Random Forest\": bw_RF_metrics,\n",
    "                         \"TF-IDF Random Forest\": tf_RF_metrics})"
   ]
  },
  {
   "cell_type": "markdown",
   "metadata": {},
   "source": [
    " - Compare the metrics"
   ]
  },
  {
   "cell_type": "code",
   "execution_count": 187,
   "metadata": {},
   "outputs": [
    {
     "name": "stdout",
     "output_type": "stream",
     "text": [
      "Sample size:650000 and Max Features: 20000\n",
      "\n",
      "Random Forest Regression Accuracy: \n",
      "TF-IDF: 0.64482 vs BoW: 0.64594\n",
      "\n",
      "Random Forest R2: \n",
      "TF-IDF: -0.025900000000000034 vs BoW: -0.020299999999999985\n",
      "\n",
      "Random Forest MSE:\n",
      "TF-IDF: 0.82072 vs BoW: 0.81624\n",
      "\n",
      "Random Forest Precision:\n",
      "TF-IDF: 0.5215336048566818 vs BoW: 0.5239886585575555\n",
      "\n",
      "Random Forest Recall:\n",
      "TF-IDF: 0.64482 vs BoW: 0.64594\n",
      "\n",
      "Random Forest F1 Score:\n",
      "TF-IDF: 0.5731938587831062 vs BoW: 0.5741656033043363\n",
      "\n",
      "Random Forest Confusion Matrix:\n",
      "TF-IDF:\n",
      "[[14739     0  5261]\n",
      " [ 3888     0  6112]\n",
      " [ 2498     0 17502]]\n",
      "\n",
      "vs Bow Confusion Matrix\n",
      "[[14579     0  5421]\n",
      " [ 3768     0  6232]\n",
      " [ 2282     0 17718]]\n"
     ]
    }
   ],
   "source": [
    "model_type = \"Random Forest\"\n",
    "print(f\"Sample size:{sample_size} and Max Features: {max_features}\")\n",
    "print(f\"\\n{model_type} Regression Accuracy: \\nTF-IDF: {tf_RF_metrics[0]} vs BoW: {bw_RF_metrics[0]}\")\n",
    "print(f\"\\n{model_type} R2: \\nTF-IDF: {tf_RF_metrics[1]} vs BoW: {bw_RF_metrics[1]}\")\n",
    "print(f\"\\n{model_type} MSE:\\nTF-IDF: {tf_RF_metrics[2]} vs BoW: {bw_RF_metrics[2]}\")\n",
    "print(f\"\\n{model_type} Precision:\\nTF-IDF: {tf_RF_metrics[3]} vs BoW: {bw_RF_metrics[3]}\")\n",
    "print(f\"\\n{model_type} Recall:\\nTF-IDF: {tf_RF_metrics[4]} vs BoW: {bw_RF_metrics[4]}\")\n",
    "print(f\"\\n{model_type} F1 Score:\\nTF-IDF: {tf_RF_metrics[5]} vs BoW: {bw_RF_metrics[5]}\")\n",
    "print(f\"\\n{model_type} Confusion Matrix:\\nTF-IDF:\")\n",
    "print(tfrf_conf_matrix)\n",
    "print(\"\\nvs Bow Confusion Matrix\")\n",
    "print(bwrf_conf_matrix)"
   ]
  },
  {
   "cell_type": "markdown",
   "metadata": {},
   "source": [
    "- And save"
   ]
  },
  {
   "cell_type": "code",
   "execution_count": 188,
   "metadata": {},
   "outputs": [],
   "source": [
    "with open(f'{file_path}models/random_forest_model_tf_01.pkl', 'wb') as file:\n",
    "    pickle.dump(tfRandomForest_model, file)\n",
    "\n",
    "with open(f'{file_path}models/random_forest_model_bw_01.pkl', 'wb') as file:\n",
    "    pickle.dump(bwRandomForest_model, file)"
   ]
  },
  {
   "cell_type": "markdown",
   "metadata": {},
   "source": [
    "### Lets go for XGB next"
   ]
  },
  {
   "cell_type": "code",
   "execution_count": 189,
   "metadata": {},
   "outputs": [],
   "source": [
    "bwxgb_model = xgb.XGBClassifier(objective='multi:softmax',  # Regression objective\n",
    "                             n_estimators=100,  # Number of boosting rounds\n",
    "                             learning_rate=0.1,  # Step size shrinkage\n",
    "                             max_depth=6,  # Maximum tree depth\n",
    "                             random_state=42)\n",
    "bwxgb_model.fit(bow_train_matrix, y_train)\n",
    "\n",
    "bwxgb_preds = bwxgb_model.predict(bow_test_matrix)\n",
    "\n",
    "bw_XGB_metrics, bwxgb_conf_matrix = hf.accuracy_scorer(y_test, bwxgb_preds)\n",
    "confusion_matrices.append(bwxgb_conf_matrix)\n",
    "matrices_titles.append(\"BoW_XGB\")"
   ]
  },
  {
   "cell_type": "code",
   "execution_count": 190,
   "metadata": {
    "colab": {
     "base_uri": "https://localhost:8080/"
    },
    "executionInfo": {
     "elapsed": 264549,
     "status": "ok",
     "timestamp": 1741671290994,
     "user": {
      "displayName": "William Finch",
      "userId": "14572932914219799925"
     },
     "user_tz": 420
    },
    "id": "sAglT_nYDXNv",
    "outputId": "fde9baee-d1f6-4259-93ad-2bcb82ea1342"
   },
   "outputs": [],
   "source": [
    "tfxgb_model = xgb.XGBClassifier(objective='multi:softmax',  # Regression objective\n",
    "                             n_estimators=100,  # Number of boosting rounds\n",
    "                             learning_rate=0.1,  # Step size shrinkage\n",
    "                             max_depth=6,  # Maximum tree depth\n",
    "                             random_state=42)\n",
    "tfxgb_model.fit(tfidf_train_matrix, y_train)\n",
    "\n",
    "tfxgb_preds = tfxgb_model.predict(tfidf_test_matrix)\n",
    "\n",
    "tf_XGB_metrics, tfxgb_conf_matrix = hf.accuracy_scorer(y_test, tfxgb_preds)\n",
    "confusion_matrices.append(tfxgb_conf_matrix)\n",
    "matrices_titles.append(\"TF-IDF_XGB\")\n",
    "complete_metrics.update({\"BoW XGB\": bw_XGB_metrics,\n",
    "                         \"TF-IDF XGB\": tf_XGB_metrics})"
   ]
  },
  {
   "cell_type": "markdown",
   "metadata": {},
   "source": [
    " - Compare the metrics"
   ]
  },
  {
   "cell_type": "code",
   "execution_count": 191,
   "metadata": {},
   "outputs": [
    {
     "name": "stdout",
     "output_type": "stream",
     "text": [
      "Sample size:650000 and Max Features: 20000\n",
      "\n",
      "XGB Boost Regression Accuracy: \n",
      "TF-IDF: 0.70952 vs BoW: 0.7086\n",
      "\n",
      "XGB Boost R2: \n",
      "TF-IDF: 0.2682 vs BoW: 0.2663\n",
      "\n",
      "XGB Boost MSE:\n",
      "TF-IDF: 0.58544 vs BoW: 0.58696\n",
      "\n",
      "XGB Boost Precision:\n",
      "TF-IDF: 0.689430115199303 vs BoW: 0.6879164302547387\n",
      "\n",
      "XGB Boost Recall:\n",
      "TF-IDF: 0.70952 vs BoW: 0.7086\n",
      "\n",
      "XGB Boost F1 Score:\n",
      "TF-IDF: 0.6846657516901945 vs BoW: 0.6834397597200873\n",
      "\n",
      "XGB Boost Confusion Matrix:\n",
      "TF-IDF:\n",
      "[[16819   996  2185]\n",
      " [ 3937  2382  3681]\n",
      " [ 2731   994 16275]]\n",
      "\n",
      "vs Bow Confusion Matrix\n",
      "[[16721   979  2300]\n",
      " [ 3905  2350  3745]\n",
      " [ 2626  1015 16359]]\n"
     ]
    }
   ],
   "source": [
    "model_type = \"XGB Boost\"\n",
    "print(f\"Sample size:{sample_size} and Max Features: {max_features}\")\n",
    "print(f\"\\n{model_type} Regression Accuracy: \\nTF-IDF: {tf_XGB_metrics[0]} vs BoW: {bw_XGB_metrics[0]}\")\n",
    "print(f\"\\n{model_type} R2: \\nTF-IDF: {tf_XGB_metrics[1]} vs BoW: {bw_XGB_metrics[1]}\")\n",
    "print(f\"\\n{model_type} MSE:\\nTF-IDF: {tf_XGB_metrics[2]} vs BoW: {bw_XGB_metrics[2]}\")\n",
    "print(f\"\\n{model_type} Precision:\\nTF-IDF: {tf_XGB_metrics[3]} vs BoW: {bw_XGB_metrics[3]}\")\n",
    "print(f\"\\n{model_type} Recall:\\nTF-IDF: {tf_XGB_metrics[4]} vs BoW: {bw_XGB_metrics[4]}\")\n",
    "print(f\"\\n{model_type} F1 Score:\\nTF-IDF: {tf_XGB_metrics[5]} vs BoW: {bw_XGB_metrics[5]}\")\n",
    "print(f\"\\n{model_type} Confusion Matrix:\\nTF-IDF:\")\n",
    "print(tfxgb_conf_matrix)\n",
    "print(\"\\nvs Bow Confusion Matrix\")\n",
    "print(bwxgb_conf_matrix)"
   ]
  },
  {
   "cell_type": "markdown",
   "metadata": {},
   "source": [
    "- And save"
   ]
  },
  {
   "cell_type": "code",
   "execution_count": 192,
   "metadata": {},
   "outputs": [],
   "source": [
    "with open(f'{file_path}models/xgb_model_tf_01.pkl', 'wb') as file:\n",
    "    pickle.dump(tfxgb_model, file)\n",
    "\n",
    "with open(f'{file_path}models/xgb_model_bw_01.pkl', 'wb') as file:\n",
    "    pickle.dump(bwxgb_model, file)"
   ]
  },
  {
   "cell_type": "markdown",
   "metadata": {},
   "source": [
    "### Lets build our basic neural network"
   ]
  },
  {
   "cell_type": "code",
   "execution_count": 193,
   "metadata": {},
   "outputs": [],
   "source": [
    "\n",
    "class EnhancedNN(nn.Module):\n",
    "    def __init__(self, input_size, num_classes=5):\n",
    "        super(EnhancedNN, self).__init__()\n",
    "        \n",
    "        self.fc1 = nn.Linear(input_size, 256)\n",
    "        self.relu1 = nn.ReLU()\n",
    "        self.dropout1 = nn.Dropout(0.5)\n",
    "        \n",
    "        self.fc2 = nn.Linear(256, 128)\n",
    "        self.relu2 = nn.ReLU()\n",
    "        self.dropout2 = nn.Dropout(0.3)\n",
    "\n",
    "        self.fc3 = nn.Linear(128, 64)\n",
    "        self.relu3 = nn.ReLU()\n",
    "\n",
    "        self.fc4 = nn.Linear(64, num_classes)\n",
    "        self.softmax = nn.Softmax(dim=1)\n",
    "\n",
    "    def forward(self, x):\n",
    "        out = self.fc1(x)\n",
    "        out = self.relu1(out)\n",
    "        out = self.dropout1(out)\n",
    "\n",
    "        out = self.fc2(out)\n",
    "        out = self.relu2(out)\n",
    "        out = self.dropout2(out)\n",
    "\n",
    "        out = self.fc3(out)\n",
    "        out = self.relu3(out)\n",
    "\n",
    "        out = self.fc4(out)\n",
    "        out = self.softmax(out)\n",
    "        return out"
   ]
  },
  {
   "cell_type": "markdown",
   "metadata": {},
   "source": [
    " - Convert all of our data to relevant and run it with both Bag of Words and TF-IDF"
   ]
  },
  {
   "cell_type": "code",
   "execution_count": 194,
   "metadata": {},
   "outputs": [
    {
     "name": "stderr",
     "output_type": "stream",
     "text": [
      "c:\\Users\\finch\\anaconda3\\envs\\test_env\\lib\\site-packages\\sklearn\\metrics\\_classification.py:1531: UndefinedMetricWarning: Recall is ill-defined and being set to 0.0 in labels with no true samples. Use `zero_division` parameter to control this behavior.\n",
      "  _warn_prf(average, modifier, f\"{metric.capitalize()} is\", len(result))\n"
     ]
    }
   ],
   "source": [
    "X_train_tensor = hf.sparse_mx_to_torch_sparse_tensor(bow_train_matrix)\n",
    "X_test_tensor = hf.sparse_mx_to_torch_sparse_tensor(bow_test_matrix)\n",
    "\n",
    "y_train_tensor = torch.tensor(y_train.values, dtype=torch.long)\n",
    "y_test_tensor = torch.tensor(y_test.values, dtype=torch.long)\n",
    "train_dataset = TensorDataset(X_train_tensor, y_train_tensor)\n",
    "test_dataset = TensorDataset(X_test_tensor, y_test_tensor)\n",
    "\n",
    "train_loader = DataLoader(train_dataset, batch_size=32, shuffle=True)\n",
    "test_loader = DataLoader(test_dataset, batch_size=32, shuffle=False)\n",
    "\n",
    "\n",
    "bwmodel = EnhancedNN(tfidf_train_matrix.shape[1])\n",
    "criterion = nn.CrossEntropyLoss()\n",
    "optimizer = optim.Adam(bwmodel.parameters())\n",
    "with torch.no_grad():\n",
    "  y_pred_probs = bwmodel(X_test_tensor)\n",
    "  _, bwy_pred = torch.max(y_pred_probs, 1)\n",
    "\n",
    "bw_torch_metrics, bwtorch_conf_matrix = hf.accuracy_scorer(y_test_tensor, bwy_pred)\n",
    "confusion_matrices.append(bwtorch_conf_matrix)\n",
    "matrices_titles.append(\"BoW_Neural_network\")"
   ]
  },
  {
   "cell_type": "code",
   "execution_count": 195,
   "metadata": {
    "executionInfo": {
     "elapsed": 9781,
     "status": "ok",
     "timestamp": 1741671937949,
     "user": {
      "displayName": "William Finch",
      "userId": "14572932914219799925"
     },
     "user_tz": 420
    },
    "id": "vWfUwuVJqV0H"
   },
   "outputs": [],
   "source": [
    "X_train_tensor = hf.sparse_mx_to_torch_sparse_tensor(tfidf_train_matrix)\n",
    "X_test_tensor = hf.sparse_mx_to_torch_sparse_tensor(tfidf_test_matrix)\n",
    "\n",
    "y_train_tensor = torch.tensor(y_train.values, dtype=torch.long)\n",
    "y_test_tensor = torch.tensor(y_test.values, dtype=torch.long)\n",
    "train_dataset = TensorDataset(X_train_tensor, y_train_tensor)\n",
    "test_dataset = TensorDataset(X_test_tensor, y_test_tensor)\n",
    "\n",
    "train_loader = DataLoader(train_dataset, batch_size=32, shuffle=True)\n",
    "test_loader = DataLoader(test_dataset, batch_size=32, shuffle=False)\n",
    "\n",
    "\n",
    "tfmodel = EnhancedNN(tfidf_train_matrix.shape[1])\n",
    "criterion = nn.CrossEntropyLoss()\n",
    "optimizer = optim.Adam(tfmodel.parameters())\n",
    "with torch.no_grad():\n",
    "  y_pred_probs = tfmodel(X_test_tensor)\n",
    "  _, tfy_pred = torch.max(y_pred_probs, 1)\n",
    "\n",
    "tf_torch_metrics, tftorch_conf_matrix = hf.accuracy_scorer(y_test_tensor, tfy_pred)\n",
    "confusion_matrices.append(tftorch_conf_matrix)\n",
    "matrices_titles.append(\"TF-IDF_Neural_network\")\n",
    "# complete_metrics.update({\"BoW NN\": bw_torch_metrics,\n",
    "#                          \"TF-IDF NN\": tf_torch_metrics}) # neural network results are absolute trash and I'm not adding them to the graphs below"
   ]
  },
  {
   "cell_type": "markdown",
   "metadata": {},
   "source": [
    " - Compare the metrics"
   ]
  },
  {
   "cell_type": "code",
   "execution_count": 196,
   "metadata": {},
   "outputs": [
    {
     "name": "stdout",
     "output_type": "stream",
     "text": [
      "Sample size:650000 and Max Features: 20000\n",
      "\n",
      "Torch Neural Network Regression Accuracy: \n",
      "TF-IDF: 0.4 vs BoW: 0.2202\n",
      "\n",
      "Torch Neural Network R2: \n",
      "TF-IDF: -1.25 vs BoW: -0.15492499999999998\n",
      "\n",
      "Torch Neural Network MSE:\n",
      "TF-IDF: 1.8 vs BoW: 0.92394\n",
      "\n",
      "Torch Neural Network Precision:\n",
      "TF-IDF: 0.16 vs BoW: 0.19303620076230474\n",
      "\n",
      "Torch Neural Network Recall:\n",
      "TF-IDF: 0.4 vs BoW: 0.2202\n",
      "\n",
      "Torch Neural Network F1 Score:\n",
      "TF-IDF: 0.22857142857142856 vs BoW: 0.13192669261523132\n",
      "\n",
      "Torch Neural Network Confusion Matrix:\n",
      "TF-IDF:\n",
      "[[    0     0 20000]\n",
      " [    0     0 10000]\n",
      " [    0     0 20000]]\n",
      "\n",
      "vs Bow Confusion Matrix\n",
      "[[ 2128 17846     0    26]\n",
      " [ 1110  8882     0     8]\n",
      " [ 2325 17654     0    21]\n",
      " [    0     0     0     0]]\n"
     ]
    }
   ],
   "source": [
    "model_type = \"Torch Neural Network\"\n",
    "print(f\"Sample size:{sample_size} and Max Features: {max_features}\")\n",
    "print(f\"\\n{model_type} Regression Accuracy: \\nTF-IDF: {tf_torch_metrics[0]} vs BoW: {bw_torch_metrics[0]}\")\n",
    "print(f\"\\n{model_type} R2: \\nTF-IDF: {tf_torch_metrics[1]} vs BoW: {bw_torch_metrics[1]}\")\n",
    "print(f\"\\n{model_type} MSE:\\nTF-IDF: {tf_torch_metrics[2]} vs BoW: {bw_torch_metrics[2]}\")\n",
    "print(f\"\\n{model_type} Precision:\\nTF-IDF: {tf_torch_metrics[3]} vs BoW: {bw_torch_metrics[3]}\")\n",
    "print(f\"\\n{model_type} Recall:\\nTF-IDF: {tf_torch_metrics[4]} vs BoW: {bw_torch_metrics[4]}\")\n",
    "print(f\"\\n{model_type} F1 Score:\\nTF-IDF: {tf_torch_metrics[5]} vs BoW: {bw_torch_metrics[5]}\")\n",
    "print(f\"\\n{model_type} Confusion Matrix:\\nTF-IDF:\")\n",
    "print(tftorch_conf_matrix)\n",
    "print(\"\\nvs Bow Confusion Matrix\")\n",
    "print(bwtorch_conf_matrix)\n"
   ]
  },
  {
   "cell_type": "markdown",
   "metadata": {},
   "source": [
    "- And save the models"
   ]
  },
  {
   "cell_type": "code",
   "execution_count": 197,
   "metadata": {},
   "outputs": [],
   "source": [
    "\n",
    "with open(f'{file_path}models/torchNN_model_tf_01.pkl', 'wb') as file:\n",
    "    pickle.dump(tfmodel, file)\n",
    "\n",
    "with open(f'{file_path}models/torchNN_model_bw_01.pkl', 'wb') as file:\n",
    "    pickle.dump(bwmodel, file)"
   ]
  },
  {
   "cell_type": "markdown",
   "metadata": {},
   "source": [
    "### Lastly lets dive into our metrics a little better"
   ]
  },
  {
   "cell_type": "code",
   "execution_count": 198,
   "metadata": {},
   "outputs": [
    {
     "data": {
      "application/vnd.microsoft.datawrangler.viewer.v0+json": {
       "columns": [
        {
         "name": "Model",
         "rawType": "object",
         "type": "string"
        },
        {
         "name": "Accuracy",
         "rawType": "float64",
         "type": "float"
        },
        {
         "name": "R-squared",
         "rawType": "float64",
         "type": "float"
        },
        {
         "name": "MSE",
         "rawType": "float64",
         "type": "float"
        },
        {
         "name": "Precision",
         "rawType": "float64",
         "type": "float"
        },
        {
         "name": "Recall",
         "rawType": "float64",
         "type": "float"
        },
        {
         "name": "F1-score",
         "rawType": "float64",
         "type": "float"
        }
       ],
       "conversionMethod": "pd.DataFrame",
       "ref": "368f59bd-5dac-450e-96c9-35a06ffc2a07",
       "rows": [
        [
         "BoW Logistic Regression",
         "0.76614",
         "0.5438000000000001",
         "0.36496",
         "0.7497300139740958",
         "0.76614",
         "0.7539176658213511"
        ],
        [
         "TF-IDF Logistic Regression",
         "0.77466",
         "0.56795",
         "0.34564",
         "0.7597871658188474",
         "0.77466",
         "0.7637877834307656"
        ],
        [
         "BoW Random Forest",
         "0.64594",
         "-0.020299999999999985",
         "0.81624",
         "0.5239886585575555",
         "0.64594",
         "0.5741656033043363"
        ],
        [
         "TF-IDF Random Forest",
         "0.64482",
         "-0.025900000000000034",
         "0.82072",
         "0.5215336048566818",
         "0.64482",
         "0.5731938587831062"
        ],
        [
         "BoW XGB",
         "0.7086",
         "0.2663",
         "0.58696",
         "0.6879164302547387",
         "0.7086",
         "0.6834397597200873"
        ],
        [
         "TF-IDF XGB",
         "0.70952",
         "0.2682",
         "0.58544",
         "0.689430115199303",
         "0.70952",
         "0.6846657516901945"
        ]
       ],
       "shape": {
        "columns": 6,
        "rows": 6
       }
      },
      "text/html": [
       "<div>\n",
       "<style scoped>\n",
       "    .dataframe tbody tr th:only-of-type {\n",
       "        vertical-align: middle;\n",
       "    }\n",
       "\n",
       "    .dataframe tbody tr th {\n",
       "        vertical-align: top;\n",
       "    }\n",
       "\n",
       "    .dataframe thead th {\n",
       "        text-align: right;\n",
       "    }\n",
       "</style>\n",
       "<table border=\"1\" class=\"dataframe\">\n",
       "  <thead>\n",
       "    <tr style=\"text-align: right;\">\n",
       "      <th></th>\n",
       "      <th>Accuracy</th>\n",
       "      <th>R-squared</th>\n",
       "      <th>MSE</th>\n",
       "      <th>Precision</th>\n",
       "      <th>Recall</th>\n",
       "      <th>F1-score</th>\n",
       "    </tr>\n",
       "    <tr>\n",
       "      <th>Model</th>\n",
       "      <th></th>\n",
       "      <th></th>\n",
       "      <th></th>\n",
       "      <th></th>\n",
       "      <th></th>\n",
       "      <th></th>\n",
       "    </tr>\n",
       "  </thead>\n",
       "  <tbody>\n",
       "    <tr>\n",
       "      <th>BoW Logistic Regression</th>\n",
       "      <td>0.76614</td>\n",
       "      <td>0.54380</td>\n",
       "      <td>0.36496</td>\n",
       "      <td>0.749730</td>\n",
       "      <td>0.76614</td>\n",
       "      <td>0.753918</td>\n",
       "    </tr>\n",
       "    <tr>\n",
       "      <th>TF-IDF Logistic Regression</th>\n",
       "      <td>0.77466</td>\n",
       "      <td>0.56795</td>\n",
       "      <td>0.34564</td>\n",
       "      <td>0.759787</td>\n",
       "      <td>0.77466</td>\n",
       "      <td>0.763788</td>\n",
       "    </tr>\n",
       "    <tr>\n",
       "      <th>BoW Random Forest</th>\n",
       "      <td>0.64594</td>\n",
       "      <td>-0.02030</td>\n",
       "      <td>0.81624</td>\n",
       "      <td>0.523989</td>\n",
       "      <td>0.64594</td>\n",
       "      <td>0.574166</td>\n",
       "    </tr>\n",
       "    <tr>\n",
       "      <th>TF-IDF Random Forest</th>\n",
       "      <td>0.64482</td>\n",
       "      <td>-0.02590</td>\n",
       "      <td>0.82072</td>\n",
       "      <td>0.521534</td>\n",
       "      <td>0.64482</td>\n",
       "      <td>0.573194</td>\n",
       "    </tr>\n",
       "    <tr>\n",
       "      <th>BoW XGB</th>\n",
       "      <td>0.70860</td>\n",
       "      <td>0.26630</td>\n",
       "      <td>0.58696</td>\n",
       "      <td>0.687916</td>\n",
       "      <td>0.70860</td>\n",
       "      <td>0.683440</td>\n",
       "    </tr>\n",
       "    <tr>\n",
       "      <th>TF-IDF XGB</th>\n",
       "      <td>0.70952</td>\n",
       "      <td>0.26820</td>\n",
       "      <td>0.58544</td>\n",
       "      <td>0.689430</td>\n",
       "      <td>0.70952</td>\n",
       "      <td>0.684666</td>\n",
       "    </tr>\n",
       "  </tbody>\n",
       "</table>\n",
       "</div>"
      ],
      "text/plain": [
       "                            Accuracy  R-squared      MSE  Precision   Recall  \\\n",
       "Model                                                                          \n",
       "BoW Logistic Regression      0.76614    0.54380  0.36496   0.749730  0.76614   \n",
       "TF-IDF Logistic Regression   0.77466    0.56795  0.34564   0.759787  0.77466   \n",
       "BoW Random Forest            0.64594   -0.02030  0.81624   0.523989  0.64594   \n",
       "TF-IDF Random Forest         0.64482   -0.02590  0.82072   0.521534  0.64482   \n",
       "BoW XGB                      0.70860    0.26630  0.58696   0.687916  0.70860   \n",
       "TF-IDF XGB                   0.70952    0.26820  0.58544   0.689430  0.70952   \n",
       "\n",
       "                            F1-score  \n",
       "Model                                 \n",
       "BoW Logistic Regression     0.753918  \n",
       "TF-IDF Logistic Regression  0.763788  \n",
       "BoW Random Forest           0.574166  \n",
       "TF-IDF Random Forest        0.573194  \n",
       "BoW XGB                     0.683440  \n",
       "TF-IDF XGB                  0.684666  "
      ]
     },
     "execution_count": 198,
     "metadata": {},
     "output_type": "execute_result"
    }
   ],
   "source": [
    "df_metrics = pd.DataFrame(complete_metrics).T\n",
    "\n",
    "metric_names = ['Accuracy', 'R-squared', 'MSE', 'Precision', 'Recall', 'F1-score']\n",
    "df_metrics.index.name = \"Model\"\n",
    "df_metrics.columns = metric_names\n",
    "df_metrics"
   ]
  },
  {
   "cell_type": "code",
   "execution_count": 201,
   "metadata": {},
   "outputs": [
    {
     "data": {
      "image/png": "[encoded data removed]",
      "text/plain": [
       "<Figure size 1500x800 with 6 Axes>"
      ]
     },
     "metadata": {},
     "output_type": "display_data"
    }
   ],
   "source": [
    "fig, axes = plt.subplots(2, 3, figsize=(15, 8)) # 2 rows, 3 columns\n",
    "\n",
    "for i, metric in enumerate(metric_names):\n",
    "    row = i // 3\n",
    "    col = i % 3\n",
    "    ax = axes[row, col]\n",
    "    df_metrics[metric].plot(kind='bar', ax=ax)\n",
    "    ax.set_title(metric)\n",
    "    ax.set_ylabel('Score')\n",
    "    ax.tick_params(axis='x')\n",
    "\n",
    "# Remove the extra subplot if there are an odd number of graphs\n",
    "if len(metric_names) < 6:\n",
    "  fig.delaxes(axes[1,2])\n",
    "\n",
    "plt.tight_layout()\n",
    "plt.show()"
   ]
  },
  {
   "cell_type": "code",
   "execution_count": 202,
   "metadata": {},
   "outputs": [
    {
     "data": {
      "image/png": "[encoded data removed]",
      "text/plain": [
       "<Figure size 2500x1000 with 16 Axes>"
      ]
     },
     "metadata": {},
     "output_type": "display_data"
    }
   ],
   "source": [
    "fig, axes = plt.subplots(2, 4, figsize=(25, 10))  # 1 row, 7 columns\n",
    "\n",
    "for i, cm in enumerate(confusion_matrices):\n",
    "    row = i // 4  # Calculate row index\n",
    "    col = i % 4   # Calculate column index\n",
    "    ax = axes[row, col]\n",
    "    sns.heatmap(cm, annot=True, fmt=\"d\", cmap=\"Blues\", ax=ax)\n",
    "    ax.set_title(matrices_titles[i])\n",
    "\n",
    "    ax.set_xticks([])\n",
    "    ax.set_yticks([])\n",
    "\n",
    "\n",
    "\n",
    "plt.tight_layout()\n",
    "plt.show()"
   ]
  },
  {
   "cell_type": "markdown",
   "metadata": {},
   "source": [
    "We can see some varying results, none great but currently getting the best results from basic Logistic regression techniques"
   ]
  }
 ],
 "metadata": {
  "colab": {
   "machine_shape": "hm",
   "provenance": []
  },
  "kernelspec": {
   "display_name": "test_env",
   "language": "python",
   "name": "python3"
  },
  "language_info": {
   "codemirror_mode": {
    "name": "ipython",
    "version": 3
   },
   "file_extension": ".py",
   "mimetype": "text/x-python",
   "name": "python",
   "nbconvert_exporter": "python",
   "pygments_lexer": "ipython3",
   "version": "3.9.20"
  }
 },
 "nbformat": 4,
 "nbformat_minor": 0
}
